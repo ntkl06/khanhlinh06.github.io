{
  "nbformat": 4,
  "nbformat_minor": 0,
  "metadata": {
    "colab": {
      "provenance": [],
      "authorship_tag": "ABX9TyOQuFanKNUH70VTQRfk58No",
      "include_colab_link": true
    },
    "kernelspec": {
      "name": "python3",
      "display_name": "Python 3"
    },
    "language_info": {
      "name": "python"
    }
  },
  "cells": [
    {
      "cell_type": "markdown",
      "metadata": {
        "id": "view-in-github",
        "colab_type": "text"
      },
      "source": [
        "<a href=\"https://colab.research.google.com/github/ntkl06/khanhlinh06.github.io/blob/main/buoi02_250816.ipynb\" target=\"_parent\"><img src=\"https://colab.research.google.com/assets/colab-badge.svg\" alt=\"Open In Colab\"/></a>"
      ]
    },
    {
      "cell_type": "code",
      "source": [
        "\n",
        "print(\"Hello, World!\")"
      ],
      "metadata": {
        "colab": {
          "base_uri": "https://localhost:8080/"
        },
        "id": "q61nhbqhalsD",
        "outputId": "6832e493-5762-4378-d647-80e30d0d12e6"
      },
      "execution_count": 127,
      "outputs": [
        {
          "output_type": "stream",
          "name": "stdout",
          "text": [
            "Hello, World!\n"
          ]
        }
      ]
    },
    {
      "cell_type": "code",
      "source": [
        "pv = 100\n",
        "r = 0.1\n",
        "n = 7\n",
        "fv = pv * ((1 + r)**n)\n",
        "print(round(fv, 2))"
      ],
      "metadata": {
        "colab": {
          "base_uri": "https://localhost:8080/"
        },
        "id": "P8HtL3MwaqFy",
        "outputId": "5109abe1-d012-4e55-f674-cb570e404ab4"
      },
      "execution_count": 128,
      "outputs": [
        {
          "output_type": "stream",
          "name": "stdout",
          "text": [
            "194.87\n"
          ]
        }
      ]
    },
    {
      "cell_type": "code",
      "source": [
        "amount = 100\n",
        "interest = 10\n",
        "years = 7\n",
        "\n",
        "future_value = amount * ((1 + 0.01 * interest)**years)\n",
        "print(round(future_value, 2))"
      ],
      "metadata": {
        "colab": {
          "base_uri": "https://localhost:8080/"
        },
        "id": "xPXHZhImasFk",
        "outputId": "eb136fa6-7de6-4823-874e-04a56adfdd9f"
      },
      "execution_count": 129,
      "outputs": [
        {
          "output_type": "stream",
          "name": "stdout",
          "text": [
            "194.87\n"
          ]
        }
      ]
    },
    {
      "cell_type": "code",
      "source": [
        "from IPython.display import display"
      ],
      "metadata": {
        "id": "HM8eBAabawmc"
      },
      "execution_count": 130,
      "outputs": []
    },
    {
      "cell_type": "code",
      "source": [
        "print(\"Hello, World\")\n",
        "display(\"Hello, World!\")"
      ],
      "metadata": {
        "colab": {
          "base_uri": "https://localhost:8080/",
          "height": 53
        },
        "id": "fw_ZhPfnax-m",
        "outputId": "368a7a3d-6f29-488a-ba83-127e946adf6e"
      },
      "execution_count": 131,
      "outputs": [
        {
          "output_type": "stream",
          "name": "stdout",
          "text": [
            "Hello, World\n"
          ]
        },
        {
          "output_type": "display_data",
          "data": {
            "text/plain": [
              "'Hello, World!'"
            ],
            "application/vnd.google.colaboratory.intrinsic+json": {
              "type": "string"
            }
          },
          "metadata": {}
        }
      ]
    },
    {
      "cell_type": "code",
      "source": [
        "# Ghi chu\n",
        "'''\n",
        "Ghi chu\n",
        "'''\n",
        "print(\"Comment\")"
      ],
      "metadata": {
        "colab": {
          "base_uri": "https://localhost:8080/"
        },
        "id": "YffwkQbWayak",
        "outputId": "f186dfec-72a6-43b2-8aba-bdde2c107f57"
      },
      "execution_count": 132,
      "outputs": [
        {
          "output_type": "stream",
          "name": "stdout",
          "text": [
            "Comment\n"
          ]
        }
      ]
    },
    {
      "cell_type": "code",
      "source": [
        "\n",
        "score = 80\n",
        "if score >= 60:\n",
        "    print(\"Pass\")"
      ],
      "metadata": {
        "colab": {
          "base_uri": "https://localhost:8080/"
        },
        "id": "49SwTc4Ya0G6",
        "outputId": "5f5650b4-05f1-42f4-f742-83904e80826a"
      },
      "execution_count": 133,
      "outputs": [
        {
          "output_type": "stream",
          "name": "stdout",
          "text": [
            "Pass\n"
          ]
        }
      ]
    },
    {
      "cell_type": "code",
      "source": [
        "# Python variables\n",
        "x = 2\n",
        "price = 2.5\n",
        "word = 'Hello'\n",
        "\n",
        "word = 'Hello'\n",
        "word = \"Hello\"\n",
        "word = '''Hello'''\n",
        "print(x, price, word)\n",
        "print(f'x = {x, type(x)}, price={price, type(price)}, word={word, type(word)}')"
      ],
      "metadata": {
        "colab": {
          "base_uri": "https://localhost:8080/"
        },
        "id": "PmKXPZBLa1Rz",
        "outputId": "c68a582a-a0d1-464b-8841-9f10661cebfc"
      },
      "execution_count": 134,
      "outputs": [
        {
          "output_type": "stream",
          "name": "stdout",
          "text": [
            "2 2.5 Hello\n",
            "x = (2, <class 'int'>), price=(2.5, <class 'float'>), word=('Hello', <class 'str'>)\n"
          ]
        }
      ]
    },
    {
      "cell_type": "code",
      "source": [
        "\n",
        "x = 2\n",
        "y = x + 1\n",
        "print(x, y)"
      ],
      "metadata": {
        "colab": {
          "base_uri": "https://localhost:8080/"
        },
        "id": "5UqZWuhxa2Jm",
        "outputId": "796b7b25-b3f2-4369-a580-8fdffd60dc04"
      },
      "execution_count": 135,
      "outputs": [
        {
          "output_type": "stream",
          "name": "stdout",
          "text": [
            "2 3\n"
          ]
        }
      ]
    },
    {
      "cell_type": "code",
      "source": [
        "# comment\n",
        "from platform import python_version\n",
        "print(\"Python version: \", python_version())\n",
        ""
      ],
      "metadata": {
        "colab": {
          "base_uri": "https://localhost:8080/"
        },
        "id": "WacdLBXga3Xf",
        "outputId": "b01496d3-d809-4c9a-81ae-b6157f6e4567"
      },
      "execution_count": 136,
      "outputs": [
        {
          "output_type": "stream",
          "name": "stdout",
          "text": [
            "Python version:  3.12.12\n"
          ]
        }
      ]
    },
    {
      "cell_type": "code",
      "source": [
        "help(python_version)"
      ],
      "metadata": {
        "colab": {
          "base_uri": "https://localhost:8080/"
        },
        "id": "yHQ4BkEMa4pE",
        "outputId": "b8e760a7-4313-4546-ca88-3169f0e7d981"
      },
      "execution_count": 137,
      "outputs": [
        {
          "output_type": "stream",
          "name": "stdout",
          "text": [
            "Help on function python_version in module platform:\n",
            "\n",
            "python_version()\n",
            "    Returns the Python version as string 'major.minor.patchlevel'\n",
            "\n",
            "    Note that unlike the Python sys.version, the returned value\n",
            "    will always include the patchlevel (it defaults to 0).\n",
            "\n"
          ]
        }
      ]
    },
    {
      "cell_type": "code",
      "source": [
        "x = 'Hello, World'\n",
        "print(x, type(x))\n",
        "\n",
        "x = 2\n",
        "print(x, type(x))\n",
        "\n",
        "x = 2.5\n",
        "print(x, type(x))\n",
        "\n",
        "x = 7j\n",
        "print(x, type(x))"
      ],
      "metadata": {
        "colab": {
          "base_uri": "https://localhost:8080/"
        },
        "id": "zh6TyLsLa5xO",
        "outputId": "dc64f416-ccd1-4c39-ae42-c4ae9b4323cc"
      },
      "execution_count": 138,
      "outputs": [
        {
          "output_type": "stream",
          "name": "stdout",
          "text": [
            "Hello, World <class 'str'>\n",
            "2 <class 'int'>\n",
            "2.5 <class 'float'>\n",
            "7j <class 'complex'>\n"
          ]
        }
      ]
    },
    {
      "cell_type": "code",
      "source": [
        "x = ['apple', 'banana', 'cherry']\n",
        "x.append('hello')\n",
        "print(x, type(x), x[1:3])\n",
        "\n",
        "x = ('apple', 'banana', 'cherry') # immutable\n",
        "# x.append('hello')\n",
        "x = ('apple', 'banana', 'cherry', 'hello')\n",
        "print(x, type(x), x[1:3])\n",
        "\n",
        "x = {'name': 'Tome', 'age': 20}   # dictionary\n",
        "print(x, type(x), x['name'], x['age'])\n",
        "\n",
        "x = {'apple', 'banana', 'cherry'} # set\n",
        "x.add('hello')\n",
        "print(x, type(x))\n",
        "\n",
        "x = frozenset({'apple', 'banana', 'cherry'}) # frozenset\n",
        "print(x, type(x))"
      ],
      "metadata": {
        "colab": {
          "base_uri": "https://localhost:8080/"
        },
        "id": "dvRdnfDWa7R4",
        "outputId": "12c81a37-abd3-42c0-e7d6-8a4b7e0f006d"
      },
      "execution_count": 139,
      "outputs": [
        {
          "output_type": "stream",
          "name": "stdout",
          "text": [
            "['apple', 'banana', 'cherry', 'hello'] <class 'list'> ['banana', 'cherry']\n",
            "('apple', 'banana', 'cherry', 'hello') <class 'tuple'> ('banana', 'cherry')\n",
            "{'name': 'Tome', 'age': 20} <class 'dict'> Tome 20\n",
            "{'banana', 'cherry', 'hello', 'apple'} <class 'set'>\n",
            "frozenset({'banana', 'cherry', 'apple'}) <class 'frozenset'>\n"
          ]
        }
      ]
    },
    {
      "cell_type": "code",
      "source": [
        "x = True\n",
        "print(x, type(x))\n",
        "\n",
        "x = b'Hello'  # bytes\n",
        "print(x, type(x))\n",
        "\n",
        "x = bytearray(5)  # bytearray\n",
        "print(x, type(x))\n",
        "\n",
        "x = memoryview(bytes(5))  # memoryview\n",
        "print(x, type(x), hex(id(x)))\n",
        "\n",
        "x = None # NoneType\n",
        "print(x, type(x))"
      ],
      "metadata": {
        "colab": {
          "base_uri": "https://localhost:8080/"
        },
        "id": "CtXTp1Mya6VY",
        "outputId": "b5b2e2aa-4101-458d-86b9-c721f52a4215"
      },
      "execution_count": 140,
      "outputs": [
        {
          "output_type": "stream",
          "name": "stdout",
          "text": [
            "True <class 'bool'>\n",
            "b'Hello' <class 'bytes'>\n",
            "bytearray(b'\\x00\\x00\\x00\\x00\\x00') <class 'bytearray'>\n",
            "<memory at 0x7edd67da6bc0> <class 'memoryview'> 0x7edd67da6bc0\n",
            "None <class 'NoneType'>\n"
          ]
        }
      ]
    },
    {
      "cell_type": "code",
      "source": [
        "# casting\n",
        "x = str(3)\n",
        "y = int(4.3)\n",
        "z = float(3)\n",
        "\n",
        "print(x, type(x))\n",
        "print(y, type(y))\n",
        "print(z, type(z))"
      ],
      "metadata": {
        "colab": {
          "base_uri": "https://localhost:8080/"
        },
        "id": "5hCYac01a_LU",
        "outputId": "cf35ecef-5e29-4e1d-edd6-4fe931e6598e"
      },
      "execution_count": 141,
      "outputs": [
        {
          "output_type": "stream",
          "name": "stdout",
          "text": [
            "3 <class 'str'>\n",
            "4 <class 'int'>\n",
            "3.0 <class 'float'>\n"
          ]
        }
      ]
    },
    {
      "cell_type": "code",
      "source": [
        "# numbers\n",
        "x = 2\n",
        "print(x, type(x))\n",
        "\n",
        "y = 3.4\n",
        "print(y, type(y))\n",
        "\n",
        "z = 7j + 3.5\n",
        "print(z, type(z))"
      ],
      "metadata": {
        "colab": {
          "base_uri": "https://localhost:8080/"
        },
        "id": "gWICDmkMbAPo",
        "outputId": "535b9eeb-43b0-45dc-c48d-25c97ff527b6"
      },
      "execution_count": 142,
      "outputs": [
        {
          "output_type": "stream",
          "name": "stdout",
          "text": [
            "2 <class 'int'>\n",
            "3.4 <class 'float'>\n",
            "(3.5+7j) <class 'complex'>\n"
          ]
        }
      ]
    },
    {
      "cell_type": "code",
      "source": [
        "# Operator\n",
        "print(7+2)\n",
        "print(7-2)\n",
        "print(7*2)\n",
        "print(7 / 2)\n",
        "print(7 // 2)\n",
        "print(7 % 2)\n",
        "print(7**2)\n",
        ""
      ],
      "metadata": {
        "colab": {
          "base_uri": "https://localhost:8080/"
        },
        "id": "DBOmpIgUbBkt",
        "outputId": "888b3a3d-4ce5-49d9-c931-fc0cf2bff2fd"
      },
      "execution_count": 143,
      "outputs": [
        {
          "output_type": "stream",
          "name": "stdout",
          "text": [
            "9\n",
            "5\n",
            "14\n",
            "3.5\n",
            "3\n",
            "1\n",
            "49\n"
          ]
        }
      ]
    },
    {
      "cell_type": "code",
      "source": [
        "# Comparision\n",
        "print(3 > 2)\n",
        "print(3 == 2)\n",
        "print(3 < 2)\n",
        "print(3 != 2)"
      ],
      "metadata": {
        "colab": {
          "base_uri": "https://localhost:8080/"
        },
        "id": "j6JDVWvEbCsB",
        "outputId": "72ccd9eb-76bc-43b1-a503-233e189426bc"
      },
      "execution_count": 144,
      "outputs": [
        {
          "output_type": "stream",
          "name": "stdout",
          "text": [
            "True\n",
            "False\n",
            "False\n",
            "True\n"
          ]
        }
      ]
    },
    {
      "cell_type": "code",
      "source": [
        "# bmi\n",
        "# input\n",
        "height_cm = 170\n",
        "weight_kg = 60\n",
        "\n",
        "# process\n",
        "height_m = height_cm / 100\n",
        "bmi = (weight_kg / (height_m ** 2))\n",
        "print('Your BMI is ', round(bmi, 2))"
      ],
      "metadata": {
        "colab": {
          "base_uri": "https://localhost:8080/"
        },
        "id": "qqRWkXvubEB6",
        "outputId": "72b5c644-aa4d-45bc-d1d8-e1200b7ceb49"
      },
      "execution_count": 145,
      "outputs": [
        {
          "output_type": "stream",
          "name": "stdout",
          "text": [
            "Your BMI is  20.76\n"
          ]
        }
      ]
    },
    {
      "cell_type": "code",
      "source": [
        "# 100$ sau 7 nam\n",
        "fv = 100 * (1 + 0.1) ** 7\n",
        "print('fv = ', round(fv, 2))"
      ],
      "metadata": {
        "colab": {
          "base_uri": "https://localhost:8080/"
        },
        "id": "AuxNTxYObFSb",
        "outputId": "4962a28e-7af6-403b-d887-c29fb1d7df54"
      },
      "execution_count": 146,
      "outputs": [
        {
          "output_type": "stream",
          "name": "stdout",
          "text": [
            "fv =  194.87\n"
          ]
        }
      ]
    },
    {
      "cell_type": "code",
      "source": [
        "# input\n",
        "pv = 100\n",
        "r  = 0.1\n",
        "n  = 7\n",
        "\n",
        "# process\n",
        "fv  = pv * ((1 + r)**n)\n",
        "print('fv = ', round(fv, 2))"
      ],
      "metadata": {
        "colab": {
          "base_uri": "https://localhost:8080/"
        },
        "id": "AFLU58ZHbHNe",
        "outputId": "daf8fd0b-1ce5-436e-d170-bbc3f53d2996"
      },
      "execution_count": 147,
      "outputs": [
        {
          "output_type": "stream",
          "name": "stdout",
          "text": [
            "fv =  194.87\n"
          ]
        }
      ]
    },
    {
      "cell_type": "code",
      "source": [
        "# input\n",
        "amount = 100\n",
        "interest = 10 # 10%\n",
        "years = 7\n",
        "\n",
        "# process\n",
        "future_value = amount * ( (1 + interest / 100.0) ** years)\n",
        "print('future_value = ', round(future_value, 2))\n",
        ""
      ],
      "metadata": {
        "colab": {
          "base_uri": "https://localhost:8080/"
        },
        "id": "COdjkVLHbH1v",
        "outputId": "547519a6-2287-4f00-d778-63959c4d9eb5"
      },
      "execution_count": 148,
      "outputs": [
        {
          "output_type": "stream",
          "name": "stdout",
          "text": [
            "future_value =  194.87\n"
          ]
        }
      ]
    },
    {
      "cell_type": "markdown",
      "source": [
        "**Cấu trúc dữ liệu**"
      ],
      "metadata": {
        "id": "HQUIGuFvbKWg"
      }
    },
    {
      "cell_type": "code",
      "source": [
        "x = ['apple', 'banana', 'cherry'] # list\n",
        "print(x, type(x))\n",
        "x = ('apple', 'banana', 'cherry') # tuple\n",
        "print(x, type(x))\n",
        "x = {'name': 'Tome', 'age': 20}   # dictionary\n",
        "print(x, type(x))\n",
        "x = {'apple', 'banana', 'cherry'} # set\n",
        "print(x, type(x))"
      ],
      "metadata": {
        "colab": {
          "base_uri": "https://localhost:8080/"
        },
        "id": "0tmMj8ERbPC5",
        "outputId": "b97aa7dc-b752-4c1c-b5ef-bd169574cb74"
      },
      "execution_count": 149,
      "outputs": [
        {
          "output_type": "stream",
          "name": "stdout",
          "text": [
            "['apple', 'banana', 'cherry'] <class 'list'>\n",
            "('apple', 'banana', 'cherry') <class 'tuple'>\n",
            "{'name': 'Tome', 'age': 20} <class 'dict'>\n",
            "{'banana', 'cherry', 'apple'} <class 'set'>\n"
          ]
        }
      ]
    },
    {
      "cell_type": "code",
      "source": [
        "# List\n",
        "x = [60, 70, 80, 90]\n",
        "print(len(x))\n",
        "print(x[0])\n",
        "print(x[1])\n",
        "print(x[-1])"
      ],
      "metadata": {
        "colab": {
          "base_uri": "https://localhost:8080/"
        },
        "id": "ifx3-fa-bQ6t",
        "outputId": "ddd65faf-1886-433c-e031-81ca2f11b99b"
      },
      "execution_count": 150,
      "outputs": [
        {
          "output_type": "stream",
          "name": "stdout",
          "text": [
            "4\n",
            "60\n",
            "70\n",
            "90\n"
          ]
        }
      ]
    },
    {
      "cell_type": "code",
      "source": [
        "# tuple\n",
        "x = (10, 20, 30, 40, 50)\n",
        "print(len(x))\n",
        "print(x[0])\n",
        "print(x[1])\n",
        "print(x[-1])\n",
        "# x[0] = 50 # error"
      ],
      "metadata": {
        "colab": {
          "base_uri": "https://localhost:8080/"
        },
        "id": "HhYzrOy1bQIQ",
        "outputId": "7149d833-e7d0-4571-e443-a27ca5293e7c"
      },
      "execution_count": 151,
      "outputs": [
        {
          "output_type": "stream",
          "name": "stdout",
          "text": [
            "5\n",
            "10\n",
            "20\n",
            "50\n"
          ]
        }
      ]
    },
    {
      "cell_type": "code",
      "source": [
        "# set\n",
        "animals = {'cat', 'dog'}\n",
        "print('cat' in animals)\n",
        "print('fish' in animals)\n",
        "animals.add('fish')\n",
        "print('fish' in animals)\n",
        "print(len(animals))\n",
        "animals.add('cat')\n",
        "print(len(animals))\n",
        "animals.remove('cat')\n",
        "print(len(animals))\n",
        ""
      ],
      "metadata": {
        "colab": {
          "base_uri": "https://localhost:8080/"
        },
        "id": "RAB_UGCqbSsj",
        "outputId": "3c723079-e5d1-4166-ff12-177108134910"
      },
      "execution_count": 152,
      "outputs": [
        {
          "output_type": "stream",
          "name": "stdout",
          "text": [
            "True\n",
            "False\n",
            "True\n",
            "3\n",
            "3\n",
            "2\n"
          ]
        }
      ]
    },
    {
      "cell_type": "code",
      "source": [
        "# dictionary\n",
        "k = {'EN': 'English', 'FR': 'French'}\n",
        "print(k['EN'])"
      ],
      "metadata": {
        "colab": {
          "base_uri": "https://localhost:8080/"
        },
        "id": "1ZFXsm52bUBl",
        "outputId": "061d1ab0-ab65-4353-8782-67438413f164"
      },
      "execution_count": 153,
      "outputs": [
        {
          "output_type": "stream",
          "name": "stdout",
          "text": [
            "English\n"
          ]
        }
      ]
    },
    {
      "cell_type": "code",
      "source": [
        "# data types\n",
        "fruits = ['apple', 'banana', 'cherry']  # list []\n",
        "colors = ('red', 'green', 'blue')       # tuple ()\n",
        "animals = {'cat', 'dog'}                # set {}\n",
        "person = {'name': 'Tom', 'age': 20}     # dict{k:v}\n",
        ""
      ],
      "metadata": {
        "id": "uTdUvsY5bVIB"
      },
      "execution_count": 154,
      "outputs": []
    },
    {
      "cell_type": "code",
      "source": [
        "# lists\n",
        "expenses = [72.5, 80.75, 50.0, 90.25]\n",
        "total_expenses = sum(expenses)\n",
        "print('Total expenses = ', total_expenses)\n",
        ""
      ],
      "metadata": {
        "colab": {
          "base_uri": "https://localhost:8080/"
        },
        "id": "c34otlRXbWfD",
        "outputId": "18795d65-30d9-4c3d-8968-db9c44d9954a"
      },
      "execution_count": 155,
      "outputs": [
        {
          "output_type": "stream",
          "name": "stdout",
          "text": [
            "Total expenses =  293.5\n"
          ]
        }
      ]
    },
    {
      "cell_type": "code",
      "source": [
        "# tuples\n",
        "accounts = (('Cash', 1001), ('Accounts Receivable', 1002), ('Inventory', 1003))\n",
        "for account in accounts:\n",
        "  print('Account Name: ', account[0], ' - Account Number: ', account[1])"
      ],
      "metadata": {
        "colab": {
          "base_uri": "https://localhost:8080/"
        },
        "id": "GQSP9sT0bXq7",
        "outputId": "727191e1-0ab3-42a8-e284-d1a5aadf0022"
      },
      "execution_count": 156,
      "outputs": [
        {
          "output_type": "stream",
          "name": "stdout",
          "text": [
            "Account Name:  Cash  - Account Number:  1001\n",
            "Account Name:  Accounts Receivable  - Account Number:  1002\n",
            "Account Name:  Inventory  - Account Number:  1003\n"
          ]
        }
      ]
    },
    {
      "cell_type": "code",
      "source": [
        "# set\n",
        "account_numbers = set([acc[1] for acc in accounts]) # set comprehensive\n",
        "print(account_numbers)\n",
        "new_acc_number = 1004\n",
        "if new_acc_number not in account_numbers:\n",
        "  print(f'Account number {new_acc_number} is not in use')"
      ],
      "metadata": {
        "colab": {
          "base_uri": "https://localhost:8080/"
        },
        "id": "vr5zw34RbY_z",
        "outputId": "40d48f6a-6834-4f5e-c9cb-328a74570946"
      },
      "execution_count": 157,
      "outputs": [
        {
          "output_type": "stream",
          "name": "stdout",
          "text": [
            "{1001, 1002, 1003}\n",
            "Account number 1004 is not in use\n"
          ]
        }
      ]
    },
    {
      "cell_type": "code",
      "source": [
        "# dictionary\n",
        "accounts = {\n",
        "    \"1001\": {\"name\": \"Cash\", \"balance\": 500.0, \"type\": \"Asset\"},\n",
        "    \"1002\": {\"name\": \"Account Receivable\", \"balance\": 1000.0, \"type\": \"Asset\"},\n",
        "    \"1003\": {\"name\": \"Account Payable\", \"balance\": 750.0, \"type\": \"Liability\"},\n",
        "}\n",
        "\n",
        "for acc_num, acc_info in accounts.items():\n",
        "  print('-'*50)\n",
        "  print('Account Number: ', acc_num)\n",
        "\n",
        "  print('Account Name: ', acc_info['name'])\n",
        "  print('Account Balance: ', acc_info['balance'])\n",
        "  print('Account Type: ', acc_info['type'])"
      ],
      "metadata": {
        "colab": {
          "base_uri": "https://localhost:8080/"
        },
        "id": "XV8HUbBqbag-",
        "outputId": "9e05475d-4e63-4d02-b2cc-0846358b16e0"
      },
      "execution_count": 158,
      "outputs": [
        {
          "output_type": "stream",
          "name": "stdout",
          "text": [
            "--------------------------------------------------\n",
            "Account Number:  1001\n",
            "Account Name:  Cash\n",
            "Account Balance:  500.0\n",
            "Account Type:  Asset\n",
            "--------------------------------------------------\n",
            "Account Number:  1002\n",
            "Account Name:  Account Receivable\n",
            "Account Balance:  1000.0\n",
            "Account Type:  Asset\n",
            "--------------------------------------------------\n",
            "Account Number:  1003\n",
            "Account Name:  Account Payable\n",
            "Account Balance:  750.0\n",
            "Account Type:  Liability\n"
          ]
        }
      ]
    },
    {
      "cell_type": "markdown",
      "source": [
        "**Control Logic & Loops**"
      ],
      "metadata": {
        "id": "v1STD30FbdDo"
      }
    },
    {
      "cell_type": "code",
      "source": [
        "# if\n",
        "score = 80\n",
        "if score >= 60:\n",
        "  print('Pass')\n",
        ""
      ],
      "metadata": {
        "colab": {
          "base_uri": "https://localhost:8080/"
        },
        "id": "plh6ZT_6besP",
        "outputId": "096366c8-0b38-4a1d-9876-9912ced1650e"
      },
      "execution_count": 159,
      "outputs": [
        {
          "output_type": "stream",
          "name": "stdout",
          "text": [
            "Pass\n"
          ]
        }
      ]
    },
    {
      "cell_type": "code",
      "source": [
        "# if\n",
        "score = 80\n",
        "if score >= 60:\n",
        "  print('Pass')\n",
        "else: # score < 60\n",
        "  print('Fail')"
      ],
      "metadata": {
        "colab": {
          "base_uri": "https://localhost:8080/"
        },
        "id": "401O79EzbgM9",
        "outputId": "20d98341-4ef6-46c5-ee42-de541955d5ca"
      },
      "execution_count": 160,
      "outputs": [
        {
          "output_type": "stream",
          "name": "stdout",
          "text": [
            "Pass\n"
          ]
        }
      ]
    },
    {
      "cell_type": "code",
      "source": [
        "# if\n",
        "score = 80\n",
        "if score >= 90:\n",
        "  print('A')\n",
        "elif score >= 60:  # score < 90 and score >=60\n",
        "  print('Pass')\n",
        "else: # score < 60\n",
        "  print('Fail')"
      ],
      "metadata": {
        "colab": {
          "base_uri": "https://localhost:8080/"
        },
        "id": "0JBUYkIybgtZ",
        "outputId": "c9b1d8f6-b3c5-4bcd-fd9b-f6acc48e3481"
      },
      "execution_count": 161,
      "outputs": [
        {
          "output_type": "stream",
          "name": "stdout",
          "text": [
            "Pass\n"
          ]
        }
      ]
    },
    {
      "cell_type": "code",
      "source": [
        "# if\n",
        "score = 90\n",
        "grade = ''\n",
        "if score >= 90:  # [>90]\n",
        "  grade = 'A'\n",
        "elif score >= 80:  # score < 90 and score >=80 [80, 90)\n",
        "  grade = 'B'\n",
        "elif score >= 70:  # [70, 80)\n",
        "  grade = 'C'\n",
        "elif score >= 60:  # [60, 70)\n",
        "  grade = 'D'\n",
        "else: # score < 60\n",
        "  grade = 'E'\n",
        "print('Grade: ', grade)"
      ],
      "metadata": {
        "colab": {
          "base_uri": "https://localhost:8080/"
        },
        "id": "nLAl_xNebiY7",
        "outputId": "d4018c11-765a-4f8d-cc56-581c72b11874"
      },
      "execution_count": 162,
      "outputs": [
        {
          "output_type": "stream",
          "name": "stdout",
          "text": [
            "Grade:  A\n"
          ]
        }
      ]
    },
    {
      "cell_type": "code",
      "source": [
        "# loop\n",
        "for i in range(1, 6): # 1<=i<6\n",
        "  print(i, end = ' ')"
      ],
      "metadata": {
        "colab": {
          "base_uri": "https://localhost:8080/"
        },
        "id": "SkUOTh5cbjhb",
        "outputId": "5fe84c2f-6379-49f1-a0c6-b0a78c2adef8"
      },
      "execution_count": 163,
      "outputs": [
        {
          "output_type": "stream",
          "name": "stdout",
          "text": [
            "1 2 3 4 5 "
          ]
        }
      ]
    },
    {
      "cell_type": "code",
      "source": [
        "# 2 loop\n",
        "for i in range(1, 10): # i: 1->9\n",
        "    for j in range(1, 10): # j: 1->9\n",
        "       print(f'{i} * {j} = {i*j}')\n",
        "    print('-'*50)"
      ],
      "metadata": {
        "colab": {
          "base_uri": "https://localhost:8080/"
        },
        "id": "Xscj7cBGbkrF",
        "outputId": "1e4577b7-743d-4b2a-9706-0ddf9fe5b1aa"
      },
      "execution_count": 164,
      "outputs": [
        {
          "output_type": "stream",
          "name": "stdout",
          "text": [
            "1 * 1 = 1\n",
            "1 * 2 = 2\n",
            "1 * 3 = 3\n",
            "1 * 4 = 4\n",
            "1 * 5 = 5\n",
            "1 * 6 = 6\n",
            "1 * 7 = 7\n",
            "1 * 8 = 8\n",
            "1 * 9 = 9\n",
            "--------------------------------------------------\n",
            "2 * 1 = 2\n",
            "2 * 2 = 4\n",
            "2 * 3 = 6\n",
            "2 * 4 = 8\n",
            "2 * 5 = 10\n",
            "2 * 6 = 12\n",
            "2 * 7 = 14\n",
            "2 * 8 = 16\n",
            "2 * 9 = 18\n",
            "--------------------------------------------------\n",
            "3 * 1 = 3\n",
            "3 * 2 = 6\n",
            "3 * 3 = 9\n",
            "3 * 4 = 12\n",
            "3 * 5 = 15\n",
            "3 * 6 = 18\n",
            "3 * 7 = 21\n",
            "3 * 8 = 24\n",
            "3 * 9 = 27\n",
            "--------------------------------------------------\n",
            "4 * 1 = 4\n",
            "4 * 2 = 8\n",
            "4 * 3 = 12\n",
            "4 * 4 = 16\n",
            "4 * 5 = 20\n",
            "4 * 6 = 24\n",
            "4 * 7 = 28\n",
            "4 * 8 = 32\n",
            "4 * 9 = 36\n",
            "--------------------------------------------------\n",
            "5 * 1 = 5\n",
            "5 * 2 = 10\n",
            "5 * 3 = 15\n",
            "5 * 4 = 20\n",
            "5 * 5 = 25\n",
            "5 * 6 = 30\n",
            "5 * 7 = 35\n",
            "5 * 8 = 40\n",
            "5 * 9 = 45\n",
            "--------------------------------------------------\n",
            "6 * 1 = 6\n",
            "6 * 2 = 12\n",
            "6 * 3 = 18\n",
            "6 * 4 = 24\n",
            "6 * 5 = 30\n",
            "6 * 6 = 36\n",
            "6 * 7 = 42\n",
            "6 * 8 = 48\n",
            "6 * 9 = 54\n",
            "--------------------------------------------------\n",
            "7 * 1 = 7\n",
            "7 * 2 = 14\n",
            "7 * 3 = 21\n",
            "7 * 4 = 28\n",
            "7 * 5 = 35\n",
            "7 * 6 = 42\n",
            "7 * 7 = 49\n",
            "7 * 8 = 56\n",
            "7 * 9 = 63\n",
            "--------------------------------------------------\n",
            "8 * 1 = 8\n",
            "8 * 2 = 16\n",
            "8 * 3 = 24\n",
            "8 * 4 = 32\n",
            "8 * 5 = 40\n",
            "8 * 6 = 48\n",
            "8 * 7 = 56\n",
            "8 * 8 = 64\n",
            "8 * 9 = 72\n",
            "--------------------------------------------------\n",
            "9 * 1 = 9\n",
            "9 * 2 = 18\n",
            "9 * 3 = 27\n",
            "9 * 4 = 36\n",
            "9 * 5 = 45\n",
            "9 * 6 = 54\n",
            "9 * 7 = 63\n",
            "9 * 8 = 72\n",
            "9 * 9 = 81\n",
            "--------------------------------------------------\n"
          ]
        }
      ]
    },
    {
      "cell_type": "code",
      "source": [
        "# while\n",
        "age = 10\n",
        "while age < 20:\n",
        "  print(age, end = \" \")\n",
        "  age = age + 1"
      ],
      "metadata": {
        "colab": {
          "base_uri": "https://localhost:8080/"
        },
        "id": "E-mQeuWNbnHK",
        "outputId": "c9143263-3877-48a0-d032-b2f5b120c149"
      },
      "execution_count": 165,
      "outputs": [
        {
          "output_type": "stream",
          "name": "stdout",
          "text": [
            "10 11 12 13 14 15 16 17 18 19 "
          ]
        }
      ]
    },
    {
      "cell_type": "markdown",
      "source": [
        "**Module & Function**"
      ],
      "metadata": {
        "id": "05kHCe7hbnve"
      }
    },
    {
      "cell_type": "code",
      "source": [
        "# function\n",
        "def getfv(pv, r, n):\n",
        "  fv = pv * ((1 + r) ** n)\n",
        "  return fv\n",
        "  pass\n",
        "\n",
        "fv = getfv(100, 0.1, 7)\n",
        "print('Future value = ', round(fv, 2))"
      ],
      "metadata": {
        "colab": {
          "base_uri": "https://localhost:8080/"
        },
        "id": "qO446bkEbpRB",
        "outputId": "9b9074b6-995a-4178-8a58-295e316ed8fa"
      },
      "execution_count": 166,
      "outputs": [
        {
          "output_type": "stream",
          "name": "stdout",
          "text": [
            "Future value =  194.87\n"
          ]
        }
      ]
    },
    {
      "cell_type": "code",
      "source": [
        "# class: properties (variables) + methods (functions)\n",
        "class MyClass:\n",
        "  x = 5\n",
        "\n",
        "c1 = MyClass()\n",
        "print(c1.x)"
      ],
      "metadata": {
        "colab": {
          "base_uri": "https://localhost:8080/"
        },
        "id": "RBol8QREbqhH",
        "outputId": "6581caab-ec69-41d8-ddd6-771e5c31de22"
      },
      "execution_count": 167,
      "outputs": [
        {
          "output_type": "stream",
          "name": "stdout",
          "text": [
            "5\n"
          ]
        }
      ]
    },
    {
      "cell_type": "code",
      "source": [
        "# class\n",
        "class Person:\n",
        "  def __init__(self, name, age): # constructor (ham tao doi tuong)\n",
        "    self.name = name\n",
        "    self.age = age\n",
        "\n",
        "p1 = Person('Alan', 20)\n",
        "print(p1.name, p1.age)"
      ],
      "metadata": {
        "colab": {
          "base_uri": "https://localhost:8080/"
        },
        "id": "rVhXXc3EbsUT",
        "outputId": "16b1819b-9a25-4fca-e73c-360e677e7e6b"
      },
      "execution_count": 168,
      "outputs": [
        {
          "output_type": "stream",
          "name": "stdout",
          "text": [
            "Alan 20\n"
          ]
        }
      ]
    },
    {
      "cell_type": "code",
      "source": [
        "# class\n",
        "class Person:\n",
        "  def __init__(self, name, age): # constructor (ham tao doi tuong)\n",
        "    self.name = name\n",
        "    self.age = age\n",
        "\n",
        "  def myfunc(self):\n",
        "    print('Hello my name is ', self.name)\n",
        "    pass\n",
        "\n",
        "p1 = Person('Alan', 20)\n",
        "print(p1.name, p1.age)\n",
        "p1.myfunc()"
      ],
      "metadata": {
        "colab": {
          "base_uri": "https://localhost:8080/"
        },
        "id": "RB7GICySbume",
        "outputId": "7e3f90f0-c468-44c6-8b6d-112355658ea2"
      },
      "execution_count": 169,
      "outputs": [
        {
          "output_type": "stream",
          "name": "stdout",
          "text": [
            "Alan 20\n",
            "Hello my name is  Alan\n"
          ]
        }
      ]
    },
    {
      "cell_type": "code",
      "source": [
        "class Vehicle:\n",
        "  name = \"\"\n",
        "  kind = \"car\"\n",
        "  color = \"\"\n",
        "  value = 100.0\n",
        "\n",
        "  def __init__(self, name=\"\", kind=\"car\", color=\"\", value=100.0):\n",
        "    self.name = name\n",
        "    self.kind = kind\n",
        "    self.color = color\n",
        "    self.value = value\n",
        "    pass\n",
        "\n",
        "  def description(self):\n",
        "    desc_str = f'{self.name} is a {self.color} {self.kind} worth ${self.value:.2f}.'\n",
        "    return desc_str\n",
        "    pass\n",
        "\n",
        "car1 = Vehicle()\n",
        "car1.name = 'Fer'\n",
        "car1.color = 'red'\n",
        "car1.kind = 'convertible'\n",
        "car1.value = 60000.0\n",
        "\n",
        "car2 = Vehicle(\"Jump\", 'blue', 'van', 10000.0)\n",
        "\n",
        "print(car1.description())\n",
        "print(car2.description())"
      ],
      "metadata": {
        "colab": {
          "base_uri": "https://localhost:8080/"
        },
        "id": "uNaD89xObvw1",
        "outputId": "cc2a7f95-5b48-4814-f57c-88a9493b638e"
      },
      "execution_count": 170,
      "outputs": [
        {
          "output_type": "stream",
          "name": "stdout",
          "text": [
            "Fer is a red convertible worth $60000.00.\n",
            "Jump is a van blue worth $10000.00.\n"
          ]
        }
      ]
    },
    {
      "cell_type": "code",
      "source": [
        "%%writefile mymodule.py\n",
        "def greeting(name):\n",
        "  print(\"Hello, \", name)\n",
        "\n",
        "def greeting_vn(name):\n",
        "  print(\"Xin Chao, \", name)"
      ],
      "metadata": {
        "colab": {
          "base_uri": "https://localhost:8080/"
        },
        "id": "ul0u2HD1bxHn",
        "outputId": "138b9197-767d-49bd-c5ac-834cd7e61a28"
      },
      "execution_count": 171,
      "outputs": [
        {
          "output_type": "stream",
          "name": "stdout",
          "text": [
            "Overwriting mymodule.py\n"
          ]
        }
      ]
    },
    {
      "cell_type": "code",
      "source": [
        "!cat mymodule.py"
      ],
      "metadata": {
        "colab": {
          "base_uri": "https://localhost:8080/"
        },
        "id": "fio4Te4_byNY",
        "outputId": "a786e30d-90b4-4bde-f0ec-4cbac2bac0fe"
      },
      "execution_count": 172,
      "outputs": [
        {
          "output_type": "stream",
          "name": "stdout",
          "text": [
            "def greeting(name):\n",
            "  print(\"Hello, \", name)\n",
            "\n",
            "def greeting_vn(name):\n",
            "  print(\"Xin Chao, \", name)\n"
          ]
        }
      ]
    },
    {
      "cell_type": "code",
      "source": [
        "import mymodule as m1\n",
        "import importlib\n",
        "importlib.reload(m1)\n",
        "m1.greeting('Alan')\n",
        "m1.greeting_vn('Alan')"
      ],
      "metadata": {
        "colab": {
          "base_uri": "https://localhost:8080/"
        },
        "id": "zX4QTPJ7bzCU",
        "outputId": "a47ad470-82ae-4b37-dca4-27cbfcdc0b6d"
      },
      "execution_count": 173,
      "outputs": [
        {
          "output_type": "stream",
          "name": "stdout",
          "text": [
            "Hello,  Alan\n",
            "Xin Chao,  Alan\n"
          ]
        }
      ]
    },
    {
      "cell_type": "markdown",
      "source": [
        "**Read/Write File**"
      ],
      "metadata": {
        "id": "q8wnHCilb1Td"
      }
    },
    {
      "cell_type": "code",
      "source": [
        "with open('a.txt', 'w') as file:\n",
        "  file.write('Hello, World\\nThis is demo input/output')\n",
        "\n",
        "!cat a.txt"
      ],
      "metadata": {
        "colab": {
          "base_uri": "https://localhost:8080/"
        },
        "id": "th_rD2mkb3Ad",
        "outputId": "94a73f67-d971-419c-f962-99de9894ca35"
      },
      "execution_count": 174,
      "outputs": [
        {
          "output_type": "stream",
          "name": "stdout",
          "text": [
            "Hello, World\n",
            "This is demo input/output"
          ]
        }
      ]
    },
    {
      "cell_type": "code",
      "source": [
        "\n",
        "with open('a.txt', 'r') as file:\n",
        "  print(file.readlines())"
      ],
      "metadata": {
        "colab": {
          "base_uri": "https://localhost:8080/"
        },
        "id": "aF7jX8F6b4BX",
        "outputId": "c622a845-5d83-4a04-c53b-049d8361263c"
      },
      "execution_count": 175,
      "outputs": [
        {
          "output_type": "stream",
          "name": "stdout",
          "text": [
            "['Hello, World\\n', 'This is demo input/output']\n"
          ]
        }
      ]
    },
    {
      "cell_type": "code",
      "source": [
        "%%writefile demo.py\n",
        "def main():\n",
        "  print('Hello, World!')\n",
        "\n",
        "print(__name__)\n",
        "\n",
        "if __name__ == \"__main__\":\n",
        "  main()\n",
        ""
      ],
      "metadata": {
        "colab": {
          "base_uri": "https://localhost:8080/"
        },
        "id": "0M0Pw9esb5jR",
        "outputId": "78dd7595-5893-482f-de0a-d8e61b840572"
      },
      "execution_count": 176,
      "outputs": [
        {
          "output_type": "stream",
          "name": "stdout",
          "text": [
            "Overwriting demo.py\n"
          ]
        }
      ]
    },
    {
      "cell_type": "code",
      "source": [
        "%run demo.py"
      ],
      "metadata": {
        "colab": {
          "base_uri": "https://localhost:8080/"
        },
        "id": "ouAG3VJEb7aT",
        "outputId": "29bacb81-373d-48d5-b16b-ff7a64f49f42"
      },
      "execution_count": 177,
      "outputs": [
        {
          "output_type": "stream",
          "name": "stdout",
          "text": [
            "__main__\n",
            "Hello, World!\n"
          ]
        }
      ]
    },
    {
      "cell_type": "code",
      "source": [
        "import demo"
      ],
      "metadata": {
        "id": "aE_dqT-Hb8f1"
      },
      "execution_count": 178,
      "outputs": []
    },
    {
      "cell_type": "markdown",
      "source": [
        "**Try, Except & File Handling**"
      ],
      "metadata": {
        "id": "YkM-mP1pb-HD"
      }
    },
    {
      "cell_type": "code",
      "source": [
        "try:\n",
        "  f = open('aa.txt')\n",
        "  f.close()\n",
        "except: # neu loi\n",
        "  print('File Error')\n",
        "  pass\n",
        "finally: # khong loi + loi deu xuong\n",
        "  print('Final')"
      ],
      "metadata": {
        "colab": {
          "base_uri": "https://localhost:8080/"
        },
        "id": "7CRoh8_Qb_Hb",
        "outputId": "2420437f-4154-4986-945f-bf85defdca0c"
      },
      "execution_count": 179,
      "outputs": [
        {
          "output_type": "stream",
          "name": "stdout",
          "text": [
            "File Error\n",
            "Final\n"
          ]
        }
      ]
    },
    {
      "cell_type": "code",
      "source": [
        "!ls /content/drive/MyDrive/\n"
      ],
      "metadata": {
        "colab": {
          "base_uri": "https://localhost:8080/"
        },
        "id": "VDvwfx_CcBZt",
        "outputId": "d3141a08-3657-486d-c1bb-4d83a2468a7e"
      },
      "execution_count": 180,
      "outputs": [
        {
          "output_type": "stream",
          "name": "stdout",
          "text": [
            "ls: cannot access '/content/drive/MyDrive/': No such file or directory\n"
          ]
        }
      ]
    },
    {
      "cell_type": "code",
      "source": [
        "import os\n",
        "\n",
        "print(os.getcwd()) # lay thu muc hien tai dang dung\n",
        "print(os.listdir(os.getcwd()))"
      ],
      "metadata": {
        "colab": {
          "base_uri": "https://localhost:8080/"
        },
        "id": "dnJyCdcCcCs2",
        "outputId": "e559df65-d33b-41f0-f050-8a679d32d280"
      },
      "execution_count": 181,
      "outputs": [
        {
          "output_type": "stream",
          "name": "stdout",
          "text": [
            "/content\n",
            "['.config', 'Max3Num.in1', '__pycache__', 'demo.py', 'Max3Num', 'Max3Num.out', 'Max3Num.txt', 'mymodule.py', 'a.txt', 'SoSanh.in1', 'sample_data']\n"
          ]
        }
      ]
    },
    {
      "cell_type": "code",
      "source": [
        "path = os.path.join(os.getcwd(), 'sample_data')\n",
        "print(path)\n",
        "print(os.listdir(path))"
      ],
      "metadata": {
        "colab": {
          "base_uri": "https://localhost:8080/"
        },
        "id": "FZ5tVtkBcGsj",
        "outputId": "704c6d89-fb0b-4425-8851-b21e38513239"
      },
      "execution_count": 182,
      "outputs": [
        {
          "output_type": "stream",
          "name": "stdout",
          "text": [
            "/content/sample_data\n",
            "['anscombe.json', 'README.md', 'mnist_train_small.csv', 'mnist_test.csv', 'california_housing_train.csv', 'california_housing_test.csv']\n"
          ]
        }
      ]
    },
    {
      "cell_type": "code",
      "source": [
        "import glob"
      ],
      "metadata": {
        "id": "lQvwCe0kcHhj"
      },
      "execution_count": 183,
      "outputs": []
    },
    {
      "cell_type": "code",
      "source": [
        "glob.glob('/content/sample_data/*.csv')"
      ],
      "metadata": {
        "colab": {
          "base_uri": "https://localhost:8080/"
        },
        "id": "_sIcPafXcJRO",
        "outputId": "e5a33750-6cca-4dd7-e564-23c5f2e46720"
      },
      "execution_count": 184,
      "outputs": [
        {
          "output_type": "execute_result",
          "data": {
            "text/plain": [
              "['/content/sample_data/mnist_train_small.csv',\n",
              " '/content/sample_data/mnist_test.csv',\n",
              " '/content/sample_data/california_housing_train.csv',\n",
              " '/content/sample_data/california_housing_test.csv']"
            ]
          },
          "metadata": {},
          "execution_count": 184
        }
      ]
    },
    {
      "cell_type": "markdown",
      "source": [
        "**Kết thúc**"
      ],
      "metadata": {
        "id": "uxJJSKkvcKfB"
      }
    }
  ]
}