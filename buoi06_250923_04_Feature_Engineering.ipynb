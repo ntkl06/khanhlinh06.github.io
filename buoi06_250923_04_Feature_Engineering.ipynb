{
  "nbformat": 4,
  "nbformat_minor": 0,
  "metadata": {
    "colab": {
      "provenance": [],
      "authorship_tag": "ABX9TyP2MPZXz0wYjurVqc8/CKqP",
      "include_colab_link": true
    },
    "kernelspec": {
      "name": "python3",
      "display_name": "Python 3"
    },
    "language_info": {
      "name": "python"
    }
  },
  "cells": [
    {
      "cell_type": "markdown",
      "metadata": {
        "id": "view-in-github",
        "colab_type": "text"
      },
      "source": [
        "<a href=\"https://colab.research.google.com/github/ntkl06/khanhlinh06.github.io/blob/main/buoi06_250923_04_Feature_Engineering.ipynb\" target=\"_parent\"><img src=\"https://colab.research.google.com/assets/colab-badge.svg\" alt=\"Open In Colab\"/></a>"
      ]
    },
    {
      "cell_type": "markdown",
      "source": [
        "**Tutorial 7a: Feature Construction**                                           "
      ],
      "metadata": {
        "id": "i1mi2nh5ldj8"
      }
    },
    {
      "cell_type": "markdown",
      "source": [
        "transformers\n",
        "These tasks are done using transformers\n",
        "\n",
        "sklearn's \"transformer\" is used for this, the main methods being:\n",
        "\n",
        "transformer.fit()\n",
        "transformer.transform()\n",
        "transformer.fit_transform()\n",
        "Note that the analysis and fitting(training) is based only on the train dataset. After that, the learned transformations are applied to the test data."
      ],
      "metadata": {
        "id": "u8_cem9Clj2E"
      }
    },
    {
      "cell_type": "code",
      "execution_count": 2,
      "metadata": {
        "id": "GphFcGIclcXJ"
      },
      "outputs": [],
      "source": [
        "import pandas as pd\n",
        "import matplotlib.pyplot as plt\n",
        "import seaborn as sns\n",
        "import numpy as np"
      ]
    },
    {
      "cell_type": "markdown",
      "source": [
        "**Load the dataset**"
      ],
      "metadata": {
        "id": "ViUlLDy6lpsY"
      }
    },
    {
      "cell_type": "code",
      "source": [
        "df=sns.load_dataset('iris')\n",
        "df.head()"
      ],
      "metadata": {
        "colab": {
          "base_uri": "https://localhost:8080/",
          "height": 206
        },
        "id": "Hnk5cqoHlrUe",
        "outputId": "d72dcc11-6370-4ba3-87a0-a4c12799f6c4"
      },
      "execution_count": 3,
      "outputs": [
        {
          "output_type": "execute_result",
          "data": {
            "text/plain": [
              "   sepal_length  sepal_width  petal_length  petal_width species\n",
              "0           5.1          3.5           1.4          0.2  setosa\n",
              "1           4.9          3.0           1.4          0.2  setosa\n",
              "2           4.7          3.2           1.3          0.2  setosa\n",
              "3           4.6          3.1           1.5          0.2  setosa\n",
              "4           5.0          3.6           1.4          0.2  setosa"
            ],
            "text/html": [
              "\n",
              "  <div id=\"df-4b80a7a5-14ae-4417-85de-bd13e9c7c541\" class=\"colab-df-container\">\n",
              "    <div>\n",
              "<style scoped>\n",
              "    .dataframe tbody tr th:only-of-type {\n",
              "        vertical-align: middle;\n",
              "    }\n",
              "\n",
              "    .dataframe tbody tr th {\n",
              "        vertical-align: top;\n",
              "    }\n",
              "\n",
              "    .dataframe thead th {\n",
              "        text-align: right;\n",
              "    }\n",
              "</style>\n",
              "<table border=\"1\" class=\"dataframe\">\n",
              "  <thead>\n",
              "    <tr style=\"text-align: right;\">\n",
              "      <th></th>\n",
              "      <th>sepal_length</th>\n",
              "      <th>sepal_width</th>\n",
              "      <th>petal_length</th>\n",
              "      <th>petal_width</th>\n",
              "      <th>species</th>\n",
              "    </tr>\n",
              "  </thead>\n",
              "  <tbody>\n",
              "    <tr>\n",
              "      <th>0</th>\n",
              "      <td>5.1</td>\n",
              "      <td>3.5</td>\n",
              "      <td>1.4</td>\n",
              "      <td>0.2</td>\n",
              "      <td>setosa</td>\n",
              "    </tr>\n",
              "    <tr>\n",
              "      <th>1</th>\n",
              "      <td>4.9</td>\n",
              "      <td>3.0</td>\n",
              "      <td>1.4</td>\n",
              "      <td>0.2</td>\n",
              "      <td>setosa</td>\n",
              "    </tr>\n",
              "    <tr>\n",
              "      <th>2</th>\n",
              "      <td>4.7</td>\n",
              "      <td>3.2</td>\n",
              "      <td>1.3</td>\n",
              "      <td>0.2</td>\n",
              "      <td>setosa</td>\n",
              "    </tr>\n",
              "    <tr>\n",
              "      <th>3</th>\n",
              "      <td>4.6</td>\n",
              "      <td>3.1</td>\n",
              "      <td>1.5</td>\n",
              "      <td>0.2</td>\n",
              "      <td>setosa</td>\n",
              "    </tr>\n",
              "    <tr>\n",
              "      <th>4</th>\n",
              "      <td>5.0</td>\n",
              "      <td>3.6</td>\n",
              "      <td>1.4</td>\n",
              "      <td>0.2</td>\n",
              "      <td>setosa</td>\n",
              "    </tr>\n",
              "  </tbody>\n",
              "</table>\n",
              "</div>\n",
              "    <div class=\"colab-df-buttons\">\n",
              "\n",
              "  <div class=\"colab-df-container\">\n",
              "    <button class=\"colab-df-convert\" onclick=\"convertToInteractive('df-4b80a7a5-14ae-4417-85de-bd13e9c7c541')\"\n",
              "            title=\"Convert this dataframe to an interactive table.\"\n",
              "            style=\"display:none;\">\n",
              "\n",
              "  <svg xmlns=\"http://www.w3.org/2000/svg\" height=\"24px\" viewBox=\"0 -960 960 960\">\n",
              "    <path d=\"M120-120v-720h720v720H120Zm60-500h600v-160H180v160Zm220 220h160v-160H400v160Zm0 220h160v-160H400v160ZM180-400h160v-160H180v160Zm440 0h160v-160H620v160ZM180-180h160v-160H180v160Zm440 0h160v-160H620v160Z\"/>\n",
              "  </svg>\n",
              "    </button>\n",
              "\n",
              "  <style>\n",
              "    .colab-df-container {\n",
              "      display:flex;\n",
              "      gap: 12px;\n",
              "    }\n",
              "\n",
              "    .colab-df-convert {\n",
              "      background-color: #E8F0FE;\n",
              "      border: none;\n",
              "      border-radius: 50%;\n",
              "      cursor: pointer;\n",
              "      display: none;\n",
              "      fill: #1967D2;\n",
              "      height: 32px;\n",
              "      padding: 0 0 0 0;\n",
              "      width: 32px;\n",
              "    }\n",
              "\n",
              "    .colab-df-convert:hover {\n",
              "      background-color: #E2EBFA;\n",
              "      box-shadow: 0px 1px 2px rgba(60, 64, 67, 0.3), 0px 1px 3px 1px rgba(60, 64, 67, 0.15);\n",
              "      fill: #174EA6;\n",
              "    }\n",
              "\n",
              "    .colab-df-buttons div {\n",
              "      margin-bottom: 4px;\n",
              "    }\n",
              "\n",
              "    [theme=dark] .colab-df-convert {\n",
              "      background-color: #3B4455;\n",
              "      fill: #D2E3FC;\n",
              "    }\n",
              "\n",
              "    [theme=dark] .colab-df-convert:hover {\n",
              "      background-color: #434B5C;\n",
              "      box-shadow: 0px 1px 3px 1px rgba(0, 0, 0, 0.15);\n",
              "      filter: drop-shadow(0px 1px 2px rgba(0, 0, 0, 0.3));\n",
              "      fill: #FFFFFF;\n",
              "    }\n",
              "  </style>\n",
              "\n",
              "    <script>\n",
              "      const buttonEl =\n",
              "        document.querySelector('#df-4b80a7a5-14ae-4417-85de-bd13e9c7c541 button.colab-df-convert');\n",
              "      buttonEl.style.display =\n",
              "        google.colab.kernel.accessAllowed ? 'block' : 'none';\n",
              "\n",
              "      async function convertToInteractive(key) {\n",
              "        const element = document.querySelector('#df-4b80a7a5-14ae-4417-85de-bd13e9c7c541');\n",
              "        const dataTable =\n",
              "          await google.colab.kernel.invokeFunction('convertToInteractive',\n",
              "                                                    [key], {});\n",
              "        if (!dataTable) return;\n",
              "\n",
              "        const docLinkHtml = 'Like what you see? Visit the ' +\n",
              "          '<a target=\"_blank\" href=https://colab.research.google.com/notebooks/data_table.ipynb>data table notebook</a>'\n",
              "          + ' to learn more about interactive tables.';\n",
              "        element.innerHTML = '';\n",
              "        dataTable['output_type'] = 'display_data';\n",
              "        await google.colab.output.renderOutput(dataTable, element);\n",
              "        const docLink = document.createElement('div');\n",
              "        docLink.innerHTML = docLinkHtml;\n",
              "        element.appendChild(docLink);\n",
              "      }\n",
              "    </script>\n",
              "  </div>\n",
              "\n",
              "\n",
              "    <div id=\"df-0692fde4-9165-47c5-bcb0-6bee34043bc0\">\n",
              "      <button class=\"colab-df-quickchart\" onclick=\"quickchart('df-0692fde4-9165-47c5-bcb0-6bee34043bc0')\"\n",
              "                title=\"Suggest charts\"\n",
              "                style=\"display:none;\">\n",
              "\n",
              "<svg xmlns=\"http://www.w3.org/2000/svg\" height=\"24px\"viewBox=\"0 0 24 24\"\n",
              "     width=\"24px\">\n",
              "    <g>\n",
              "        <path d=\"M19 3H5c-1.1 0-2 .9-2 2v14c0 1.1.9 2 2 2h14c1.1 0 2-.9 2-2V5c0-1.1-.9-2-2-2zM9 17H7v-7h2v7zm4 0h-2V7h2v10zm4 0h-2v-4h2v4z\"/>\n",
              "    </g>\n",
              "</svg>\n",
              "      </button>\n",
              "\n",
              "<style>\n",
              "  .colab-df-quickchart {\n",
              "      --bg-color: #E8F0FE;\n",
              "      --fill-color: #1967D2;\n",
              "      --hover-bg-color: #E2EBFA;\n",
              "      --hover-fill-color: #174EA6;\n",
              "      --disabled-fill-color: #AAA;\n",
              "      --disabled-bg-color: #DDD;\n",
              "  }\n",
              "\n",
              "  [theme=dark] .colab-df-quickchart {\n",
              "      --bg-color: #3B4455;\n",
              "      --fill-color: #D2E3FC;\n",
              "      --hover-bg-color: #434B5C;\n",
              "      --hover-fill-color: #FFFFFF;\n",
              "      --disabled-bg-color: #3B4455;\n",
              "      --disabled-fill-color: #666;\n",
              "  }\n",
              "\n",
              "  .colab-df-quickchart {\n",
              "    background-color: var(--bg-color);\n",
              "    border: none;\n",
              "    border-radius: 50%;\n",
              "    cursor: pointer;\n",
              "    display: none;\n",
              "    fill: var(--fill-color);\n",
              "    height: 32px;\n",
              "    padding: 0;\n",
              "    width: 32px;\n",
              "  }\n",
              "\n",
              "  .colab-df-quickchart:hover {\n",
              "    background-color: var(--hover-bg-color);\n",
              "    box-shadow: 0 1px 2px rgba(60, 64, 67, 0.3), 0 1px 3px 1px rgba(60, 64, 67, 0.15);\n",
              "    fill: var(--button-hover-fill-color);\n",
              "  }\n",
              "\n",
              "  .colab-df-quickchart-complete:disabled,\n",
              "  .colab-df-quickchart-complete:disabled:hover {\n",
              "    background-color: var(--disabled-bg-color);\n",
              "    fill: var(--disabled-fill-color);\n",
              "    box-shadow: none;\n",
              "  }\n",
              "\n",
              "  .colab-df-spinner {\n",
              "    border: 2px solid var(--fill-color);\n",
              "    border-color: transparent;\n",
              "    border-bottom-color: var(--fill-color);\n",
              "    animation:\n",
              "      spin 1s steps(1) infinite;\n",
              "  }\n",
              "\n",
              "  @keyframes spin {\n",
              "    0% {\n",
              "      border-color: transparent;\n",
              "      border-bottom-color: var(--fill-color);\n",
              "      border-left-color: var(--fill-color);\n",
              "    }\n",
              "    20% {\n",
              "      border-color: transparent;\n",
              "      border-left-color: var(--fill-color);\n",
              "      border-top-color: var(--fill-color);\n",
              "    }\n",
              "    30% {\n",
              "      border-color: transparent;\n",
              "      border-left-color: var(--fill-color);\n",
              "      border-top-color: var(--fill-color);\n",
              "      border-right-color: var(--fill-color);\n",
              "    }\n",
              "    40% {\n",
              "      border-color: transparent;\n",
              "      border-right-color: var(--fill-color);\n",
              "      border-top-color: var(--fill-color);\n",
              "    }\n",
              "    60% {\n",
              "      border-color: transparent;\n",
              "      border-right-color: var(--fill-color);\n",
              "    }\n",
              "    80% {\n",
              "      border-color: transparent;\n",
              "      border-right-color: var(--fill-color);\n",
              "      border-bottom-color: var(--fill-color);\n",
              "    }\n",
              "    90% {\n",
              "      border-color: transparent;\n",
              "      border-bottom-color: var(--fill-color);\n",
              "    }\n",
              "  }\n",
              "</style>\n",
              "\n",
              "      <script>\n",
              "        async function quickchart(key) {\n",
              "          const quickchartButtonEl =\n",
              "            document.querySelector('#' + key + ' button');\n",
              "          quickchartButtonEl.disabled = true;  // To prevent multiple clicks.\n",
              "          quickchartButtonEl.classList.add('colab-df-spinner');\n",
              "          try {\n",
              "            const charts = await google.colab.kernel.invokeFunction(\n",
              "                'suggestCharts', [key], {});\n",
              "          } catch (error) {\n",
              "            console.error('Error during call to suggestCharts:', error);\n",
              "          }\n",
              "          quickchartButtonEl.classList.remove('colab-df-spinner');\n",
              "          quickchartButtonEl.classList.add('colab-df-quickchart-complete');\n",
              "        }\n",
              "        (() => {\n",
              "          let quickchartButtonEl =\n",
              "            document.querySelector('#df-0692fde4-9165-47c5-bcb0-6bee34043bc0 button');\n",
              "          quickchartButtonEl.style.display =\n",
              "            google.colab.kernel.accessAllowed ? 'block' : 'none';\n",
              "        })();\n",
              "      </script>\n",
              "    </div>\n",
              "\n",
              "    </div>\n",
              "  </div>\n"
            ],
            "application/vnd.google.colaboratory.intrinsic+json": {
              "type": "dataframe",
              "variable_name": "df",
              "summary": "{\n  \"name\": \"df\",\n  \"rows\": 150,\n  \"fields\": [\n    {\n      \"column\": \"sepal_length\",\n      \"properties\": {\n        \"dtype\": \"number\",\n        \"std\": 0.8280661279778629,\n        \"min\": 4.3,\n        \"max\": 7.9,\n        \"num_unique_values\": 35,\n        \"samples\": [\n          6.2,\n          4.5,\n          5.6\n        ],\n        \"semantic_type\": \"\",\n        \"description\": \"\"\n      }\n    },\n    {\n      \"column\": \"sepal_width\",\n      \"properties\": {\n        \"dtype\": \"number\",\n        \"std\": 0.435866284936698,\n        \"min\": 2.0,\n        \"max\": 4.4,\n        \"num_unique_values\": 23,\n        \"samples\": [\n          2.3,\n          4.0,\n          3.5\n        ],\n        \"semantic_type\": \"\",\n        \"description\": \"\"\n      }\n    },\n    {\n      \"column\": \"petal_length\",\n      \"properties\": {\n        \"dtype\": \"number\",\n        \"std\": 1.7652982332594667,\n        \"min\": 1.0,\n        \"max\": 6.9,\n        \"num_unique_values\": 43,\n        \"samples\": [\n          6.7,\n          3.8,\n          3.7\n        ],\n        \"semantic_type\": \"\",\n        \"description\": \"\"\n      }\n    },\n    {\n      \"column\": \"petal_width\",\n      \"properties\": {\n        \"dtype\": \"number\",\n        \"std\": 0.7622376689603465,\n        \"min\": 0.1,\n        \"max\": 2.5,\n        \"num_unique_values\": 22,\n        \"samples\": [\n          0.2,\n          1.2,\n          1.3\n        ],\n        \"semantic_type\": \"\",\n        \"description\": \"\"\n      }\n    },\n    {\n      \"column\": \"species\",\n      \"properties\": {\n        \"dtype\": \"category\",\n        \"num_unique_values\": 3,\n        \"samples\": [\n          \"setosa\",\n          \"versicolor\",\n          \"virginica\"\n        ],\n        \"semantic_type\": \"\",\n        \"description\": \"\"\n      }\n    }\n  ]\n}"
            }
          },
          "metadata": {},
          "execution_count": 3
        }
      ]
    },
    {
      "cell_type": "code",
      "source": [
        "# Seperate the target variable\n",
        "X=df[df.columns[1:-1]]   # read \"-1\" as \"the last one\"\n",
        "y=df[df.columns[-1]]"
      ],
      "metadata": {
        "id": "_gqyrxJ-ls2m"
      },
      "execution_count": 4,
      "outputs": []
    },
    {
      "cell_type": "code",
      "source": [
        "X, y"
      ],
      "metadata": {
        "colab": {
          "base_uri": "https://localhost:8080/"
        },
        "id": "-rcjUsXAltmu",
        "outputId": "507614cc-effb-4346-b11b-7c2f57128f7b"
      },
      "execution_count": 5,
      "outputs": [
        {
          "output_type": "execute_result",
          "data": {
            "text/plain": [
              "(     sepal_width  petal_length  petal_width\n",
              " 0            3.5           1.4          0.2\n",
              " 1            3.0           1.4          0.2\n",
              " 2            3.2           1.3          0.2\n",
              " 3            3.1           1.5          0.2\n",
              " 4            3.6           1.4          0.2\n",
              " ..           ...           ...          ...\n",
              " 145          3.0           5.2          2.3\n",
              " 146          2.5           5.0          1.9\n",
              " 147          3.0           5.2          2.0\n",
              " 148          3.4           5.4          2.3\n",
              " 149          3.0           5.1          1.8\n",
              " \n",
              " [150 rows x 3 columns],\n",
              " 0         setosa\n",
              " 1         setosa\n",
              " 2         setosa\n",
              " 3         setosa\n",
              " 4         setosa\n",
              "          ...    \n",
              " 145    virginica\n",
              " 146    virginica\n",
              " 147    virginica\n",
              " 148    virginica\n",
              " 149    virginica\n",
              " Name: species, Length: 150, dtype: object)"
            ]
          },
          "metadata": {},
          "execution_count": 5
        }
      ]
    },
    {
      "cell_type": "code",
      "source": [
        "# Show the number of instances per class\n",
        "y.value_counts()"
      ],
      "metadata": {
        "colab": {
          "base_uri": "https://localhost:8080/",
          "height": 210
        },
        "id": "svwpnCgAluyK",
        "outputId": "e9bc3770-67de-4a52-8ebc-8900f7d7552c"
      },
      "execution_count": 6,
      "outputs": [
        {
          "output_type": "execute_result",
          "data": {
            "text/plain": [
              "species\n",
              "setosa        50\n",
              "versicolor    50\n",
              "virginica     50\n",
              "Name: count, dtype: int64"
            ],
            "text/html": [
              "<div>\n",
              "<style scoped>\n",
              "    .dataframe tbody tr th:only-of-type {\n",
              "        vertical-align: middle;\n",
              "    }\n",
              "\n",
              "    .dataframe tbody tr th {\n",
              "        vertical-align: top;\n",
              "    }\n",
              "\n",
              "    .dataframe thead th {\n",
              "        text-align: right;\n",
              "    }\n",
              "</style>\n",
              "<table border=\"1\" class=\"dataframe\">\n",
              "  <thead>\n",
              "    <tr style=\"text-align: right;\">\n",
              "      <th></th>\n",
              "      <th>count</th>\n",
              "    </tr>\n",
              "    <tr>\n",
              "      <th>species</th>\n",
              "      <th></th>\n",
              "    </tr>\n",
              "  </thead>\n",
              "  <tbody>\n",
              "    <tr>\n",
              "      <th>setosa</th>\n",
              "      <td>50</td>\n",
              "    </tr>\n",
              "    <tr>\n",
              "      <th>versicolor</th>\n",
              "      <td>50</td>\n",
              "    </tr>\n",
              "    <tr>\n",
              "      <th>virginica</th>\n",
              "      <td>50</td>\n",
              "    </tr>\n",
              "  </tbody>\n",
              "</table>\n",
              "</div><br><label><b>dtype:</b> int64</label>"
            ]
          },
          "metadata": {},
          "execution_count": 6
        }
      ]
    },
    {
      "cell_type": "code",
      "source": [
        "# split the data\n",
        "from sklearn.model_selection import train_test_split\n",
        "X_train, X_test, y_train, y_test = train_test_split(X, y, test_size=0.3, random_state=42, stratify=y)"
      ],
      "metadata": {
        "id": "1oJyrujolvGK"
      },
      "execution_count": 7,
      "outputs": []
    },
    {
      "cell_type": "code",
      "source": [
        "#Check before standardization\n",
        "X_train.head()"
      ],
      "metadata": {
        "colab": {
          "base_uri": "https://localhost:8080/",
          "height": 206
        },
        "id": "vrWc1n4Zlw72",
        "outputId": "8410dd72-8c2a-4a06-eee0-3d96317076da"
      },
      "execution_count": 8,
      "outputs": [
        {
          "output_type": "execute_result",
          "data": {
            "text/plain": [
              "     sepal_width  petal_length  petal_width\n",
              "98           2.5           3.0          1.1\n",
              "68           2.2           4.5          1.5\n",
              "19           3.8           1.5          0.3\n",
              "143          3.2           5.9          2.3\n",
              "99           2.8           4.1          1.3"
            ],
            "text/html": [
              "\n",
              "  <div id=\"df-d63551ee-58d1-49a8-890c-720c28ea4947\" class=\"colab-df-container\">\n",
              "    <div>\n",
              "<style scoped>\n",
              "    .dataframe tbody tr th:only-of-type {\n",
              "        vertical-align: middle;\n",
              "    }\n",
              "\n",
              "    .dataframe tbody tr th {\n",
              "        vertical-align: top;\n",
              "    }\n",
              "\n",
              "    .dataframe thead th {\n",
              "        text-align: right;\n",
              "    }\n",
              "</style>\n",
              "<table border=\"1\" class=\"dataframe\">\n",
              "  <thead>\n",
              "    <tr style=\"text-align: right;\">\n",
              "      <th></th>\n",
              "      <th>sepal_width</th>\n",
              "      <th>petal_length</th>\n",
              "      <th>petal_width</th>\n",
              "    </tr>\n",
              "  </thead>\n",
              "  <tbody>\n",
              "    <tr>\n",
              "      <th>98</th>\n",
              "      <td>2.5</td>\n",
              "      <td>3.0</td>\n",
              "      <td>1.1</td>\n",
              "    </tr>\n",
              "    <tr>\n",
              "      <th>68</th>\n",
              "      <td>2.2</td>\n",
              "      <td>4.5</td>\n",
              "      <td>1.5</td>\n",
              "    </tr>\n",
              "    <tr>\n",
              "      <th>19</th>\n",
              "      <td>3.8</td>\n",
              "      <td>1.5</td>\n",
              "      <td>0.3</td>\n",
              "    </tr>\n",
              "    <tr>\n",
              "      <th>143</th>\n",
              "      <td>3.2</td>\n",
              "      <td>5.9</td>\n",
              "      <td>2.3</td>\n",
              "    </tr>\n",
              "    <tr>\n",
              "      <th>99</th>\n",
              "      <td>2.8</td>\n",
              "      <td>4.1</td>\n",
              "      <td>1.3</td>\n",
              "    </tr>\n",
              "  </tbody>\n",
              "</table>\n",
              "</div>\n",
              "    <div class=\"colab-df-buttons\">\n",
              "\n",
              "  <div class=\"colab-df-container\">\n",
              "    <button class=\"colab-df-convert\" onclick=\"convertToInteractive('df-d63551ee-58d1-49a8-890c-720c28ea4947')\"\n",
              "            title=\"Convert this dataframe to an interactive table.\"\n",
              "            style=\"display:none;\">\n",
              "\n",
              "  <svg xmlns=\"http://www.w3.org/2000/svg\" height=\"24px\" viewBox=\"0 -960 960 960\">\n",
              "    <path d=\"M120-120v-720h720v720H120Zm60-500h600v-160H180v160Zm220 220h160v-160H400v160Zm0 220h160v-160H400v160ZM180-400h160v-160H180v160Zm440 0h160v-160H620v160ZM180-180h160v-160H180v160Zm440 0h160v-160H620v160Z\"/>\n",
              "  </svg>\n",
              "    </button>\n",
              "\n",
              "  <style>\n",
              "    .colab-df-container {\n",
              "      display:flex;\n",
              "      gap: 12px;\n",
              "    }\n",
              "\n",
              "    .colab-df-convert {\n",
              "      background-color: #E8F0FE;\n",
              "      border: none;\n",
              "      border-radius: 50%;\n",
              "      cursor: pointer;\n",
              "      display: none;\n",
              "      fill: #1967D2;\n",
              "      height: 32px;\n",
              "      padding: 0 0 0 0;\n",
              "      width: 32px;\n",
              "    }\n",
              "\n",
              "    .colab-df-convert:hover {\n",
              "      background-color: #E2EBFA;\n",
              "      box-shadow: 0px 1px 2px rgba(60, 64, 67, 0.3), 0px 1px 3px 1px rgba(60, 64, 67, 0.15);\n",
              "      fill: #174EA6;\n",
              "    }\n",
              "\n",
              "    .colab-df-buttons div {\n",
              "      margin-bottom: 4px;\n",
              "    }\n",
              "\n",
              "    [theme=dark] .colab-df-convert {\n",
              "      background-color: #3B4455;\n",
              "      fill: #D2E3FC;\n",
              "    }\n",
              "\n",
              "    [theme=dark] .colab-df-convert:hover {\n",
              "      background-color: #434B5C;\n",
              "      box-shadow: 0px 1px 3px 1px rgba(0, 0, 0, 0.15);\n",
              "      filter: drop-shadow(0px 1px 2px rgba(0, 0, 0, 0.3));\n",
              "      fill: #FFFFFF;\n",
              "    }\n",
              "  </style>\n",
              "\n",
              "    <script>\n",
              "      const buttonEl =\n",
              "        document.querySelector('#df-d63551ee-58d1-49a8-890c-720c28ea4947 button.colab-df-convert');\n",
              "      buttonEl.style.display =\n",
              "        google.colab.kernel.accessAllowed ? 'block' : 'none';\n",
              "\n",
              "      async function convertToInteractive(key) {\n",
              "        const element = document.querySelector('#df-d63551ee-58d1-49a8-890c-720c28ea4947');\n",
              "        const dataTable =\n",
              "          await google.colab.kernel.invokeFunction('convertToInteractive',\n",
              "                                                    [key], {});\n",
              "        if (!dataTable) return;\n",
              "\n",
              "        const docLinkHtml = 'Like what you see? Visit the ' +\n",
              "          '<a target=\"_blank\" href=https://colab.research.google.com/notebooks/data_table.ipynb>data table notebook</a>'\n",
              "          + ' to learn more about interactive tables.';\n",
              "        element.innerHTML = '';\n",
              "        dataTable['output_type'] = 'display_data';\n",
              "        await google.colab.output.renderOutput(dataTable, element);\n",
              "        const docLink = document.createElement('div');\n",
              "        docLink.innerHTML = docLinkHtml;\n",
              "        element.appendChild(docLink);\n",
              "      }\n",
              "    </script>\n",
              "  </div>\n",
              "\n",
              "\n",
              "    <div id=\"df-9be07dc0-8af9-4ee9-9a2f-ee0ffd521f26\">\n",
              "      <button class=\"colab-df-quickchart\" onclick=\"quickchart('df-9be07dc0-8af9-4ee9-9a2f-ee0ffd521f26')\"\n",
              "                title=\"Suggest charts\"\n",
              "                style=\"display:none;\">\n",
              "\n",
              "<svg xmlns=\"http://www.w3.org/2000/svg\" height=\"24px\"viewBox=\"0 0 24 24\"\n",
              "     width=\"24px\">\n",
              "    <g>\n",
              "        <path d=\"M19 3H5c-1.1 0-2 .9-2 2v14c0 1.1.9 2 2 2h14c1.1 0 2-.9 2-2V5c0-1.1-.9-2-2-2zM9 17H7v-7h2v7zm4 0h-2V7h2v10zm4 0h-2v-4h2v4z\"/>\n",
              "    </g>\n",
              "</svg>\n",
              "      </button>\n",
              "\n",
              "<style>\n",
              "  .colab-df-quickchart {\n",
              "      --bg-color: #E8F0FE;\n",
              "      --fill-color: #1967D2;\n",
              "      --hover-bg-color: #E2EBFA;\n",
              "      --hover-fill-color: #174EA6;\n",
              "      --disabled-fill-color: #AAA;\n",
              "      --disabled-bg-color: #DDD;\n",
              "  }\n",
              "\n",
              "  [theme=dark] .colab-df-quickchart {\n",
              "      --bg-color: #3B4455;\n",
              "      --fill-color: #D2E3FC;\n",
              "      --hover-bg-color: #434B5C;\n",
              "      --hover-fill-color: #FFFFFF;\n",
              "      --disabled-bg-color: #3B4455;\n",
              "      --disabled-fill-color: #666;\n",
              "  }\n",
              "\n",
              "  .colab-df-quickchart {\n",
              "    background-color: var(--bg-color);\n",
              "    border: none;\n",
              "    border-radius: 50%;\n",
              "    cursor: pointer;\n",
              "    display: none;\n",
              "    fill: var(--fill-color);\n",
              "    height: 32px;\n",
              "    padding: 0;\n",
              "    width: 32px;\n",
              "  }\n",
              "\n",
              "  .colab-df-quickchart:hover {\n",
              "    background-color: var(--hover-bg-color);\n",
              "    box-shadow: 0 1px 2px rgba(60, 64, 67, 0.3), 0 1px 3px 1px rgba(60, 64, 67, 0.15);\n",
              "    fill: var(--button-hover-fill-color);\n",
              "  }\n",
              "\n",
              "  .colab-df-quickchart-complete:disabled,\n",
              "  .colab-df-quickchart-complete:disabled:hover {\n",
              "    background-color: var(--disabled-bg-color);\n",
              "    fill: var(--disabled-fill-color);\n",
              "    box-shadow: none;\n",
              "  }\n",
              "\n",
              "  .colab-df-spinner {\n",
              "    border: 2px solid var(--fill-color);\n",
              "    border-color: transparent;\n",
              "    border-bottom-color: var(--fill-color);\n",
              "    animation:\n",
              "      spin 1s steps(1) infinite;\n",
              "  }\n",
              "\n",
              "  @keyframes spin {\n",
              "    0% {\n",
              "      border-color: transparent;\n",
              "      border-bottom-color: var(--fill-color);\n",
              "      border-left-color: var(--fill-color);\n",
              "    }\n",
              "    20% {\n",
              "      border-color: transparent;\n",
              "      border-left-color: var(--fill-color);\n",
              "      border-top-color: var(--fill-color);\n",
              "    }\n",
              "    30% {\n",
              "      border-color: transparent;\n",
              "      border-left-color: var(--fill-color);\n",
              "      border-top-color: var(--fill-color);\n",
              "      border-right-color: var(--fill-color);\n",
              "    }\n",
              "    40% {\n",
              "      border-color: transparent;\n",
              "      border-right-color: var(--fill-color);\n",
              "      border-top-color: var(--fill-color);\n",
              "    }\n",
              "    60% {\n",
              "      border-color: transparent;\n",
              "      border-right-color: var(--fill-color);\n",
              "    }\n",
              "    80% {\n",
              "      border-color: transparent;\n",
              "      border-right-color: var(--fill-color);\n",
              "      border-bottom-color: var(--fill-color);\n",
              "    }\n",
              "    90% {\n",
              "      border-color: transparent;\n",
              "      border-bottom-color: var(--fill-color);\n",
              "    }\n",
              "  }\n",
              "</style>\n",
              "\n",
              "      <script>\n",
              "        async function quickchart(key) {\n",
              "          const quickchartButtonEl =\n",
              "            document.querySelector('#' + key + ' button');\n",
              "          quickchartButtonEl.disabled = true;  // To prevent multiple clicks.\n",
              "          quickchartButtonEl.classList.add('colab-df-spinner');\n",
              "          try {\n",
              "            const charts = await google.colab.kernel.invokeFunction(\n",
              "                'suggestCharts', [key], {});\n",
              "          } catch (error) {\n",
              "            console.error('Error during call to suggestCharts:', error);\n",
              "          }\n",
              "          quickchartButtonEl.classList.remove('colab-df-spinner');\n",
              "          quickchartButtonEl.classList.add('colab-df-quickchart-complete');\n",
              "        }\n",
              "        (() => {\n",
              "          let quickchartButtonEl =\n",
              "            document.querySelector('#df-9be07dc0-8af9-4ee9-9a2f-ee0ffd521f26 button');\n",
              "          quickchartButtonEl.style.display =\n",
              "            google.colab.kernel.accessAllowed ? 'block' : 'none';\n",
              "        })();\n",
              "      </script>\n",
              "    </div>\n",
              "\n",
              "    </div>\n",
              "  </div>\n"
            ],
            "application/vnd.google.colaboratory.intrinsic+json": {
              "type": "dataframe",
              "variable_name": "X_train",
              "summary": "{\n  \"name\": \"X_train\",\n  \"rows\": 105,\n  \"fields\": [\n    {\n      \"column\": \"sepal_width\",\n      \"properties\": {\n        \"dtype\": \"number\",\n        \"std\": 0.4572032354815509,\n        \"min\": 2.0,\n        \"max\": 4.4,\n        \"num_unique_values\": 22,\n        \"samples\": [\n          2.5,\n          3.9,\n          2.4\n        ],\n        \"semantic_type\": \"\",\n        \"description\": \"\"\n      }\n    },\n    {\n      \"column\": \"petal_length\",\n      \"properties\": {\n        \"dtype\": \"number\",\n        \"std\": 1.7840522668471606,\n        \"min\": 1.1,\n        \"max\": 6.9,\n        \"num_unique_values\": 39,\n        \"samples\": [\n          5.3,\n          1.7,\n          4.1\n        ],\n        \"semantic_type\": \"\",\n        \"description\": \"\"\n      }\n    },\n    {\n      \"column\": \"petal_width\",\n      \"properties\": {\n        \"dtype\": \"number\",\n        \"std\": 0.7775489808252707,\n        \"min\": 0.1,\n        \"max\": 2.5,\n        \"num_unique_values\": 19,\n        \"samples\": [\n          1.1,\n          0.1,\n          2.5\n        ],\n        \"semantic_type\": \"\",\n        \"description\": \"\"\n      }\n    }\n  ]\n}"
            }
          },
          "metadata": {},
          "execution_count": 8
        }
      ]
    },
    {
      "cell_type": "markdown",
      "source": [
        "**PCA**\n"
      ],
      "metadata": {
        "id": "ZkTbWNbtlzvE"
      }
    },
    {
      "cell_type": "code",
      "source": [
        "#Now lets apply 1-1 \"StandardScaler\" transformer\n",
        "#1) import the module\n",
        "from sklearn.preprocessing import StandardScaler\n",
        "\n",
        "#2) define the model\n",
        "scaler=StandardScaler()\n",
        "\n",
        "#3) fit the model\n",
        "scaler.fit(X_train)\n",
        "\n",
        "#4) transform the data\n",
        "X_train_ss = scaler.transform(X_train)\n",
        "\n",
        "# note 3 and 4 could be combined like this:\n",
        "# X_train_ss = SS.fit_transform(X_train)"
      ],
      "metadata": {
        "id": "bzJlYukylyEm"
      },
      "execution_count": 9,
      "outputs": []
    },
    {
      "cell_type": "code",
      "source": [
        "X_train_ss"
      ],
      "metadata": {
        "colab": {
          "base_uri": "https://localhost:8080/"
        },
        "id": "pyerFS0Bl62s",
        "outputId": "cc1056c5-c2a1-4b88-d292-aff307d1ad67"
      },
      "execution_count": 10,
      "outputs": [
        {
          "output_type": "execute_result",
          "data": {
            "text/plain": [
              "array([[-1.22024754, -0.4419858 , -0.13661044],\n",
              "       [-1.87955796,  0.40282929,  0.38029394],\n",
              "       [ 1.63676428, -1.2868009 , -1.17041921],\n",
              "       [ 0.31814344,  1.19132338,  1.41410271],\n",
              "       [-0.56093712,  0.17754527,  0.12184175],\n",
              "       [-0.12139684,  0.79707634,  1.41410271],\n",
              "       [ 0.0983733 , -1.2868009 , -1.4288714 ],\n",
              "       [ 1.63676428, -1.23047989, -1.29964531],\n",
              "       [-0.34116698, -1.3431219 , -1.29964531],\n",
              "       [-0.12139684,  1.19132338,  1.15565051],\n",
              "       [ 0.31814344,  0.74075533,  1.02642442],\n",
              "       [-0.12139684, -1.3431219 , -1.29964531],\n",
              "       [-0.12139684, -1.23047989, -1.29964531],\n",
              "       [-0.34116698,  0.40282929,  0.38029394],\n",
              "       [-1.44001768,  0.00858225, -0.13661044],\n",
              "       [ 0.31814344,  1.24764439,  0.76797223],\n",
              "       [ 0.75768372, -1.23047989, -1.04119311],\n",
              "       [ 0.31814344, -1.23047989, -1.29964531],\n",
              "       [ 0.53791358,  1.07868137,  1.6725549 ],\n",
              "       [ 0.31814344,  0.57179231,  0.76797223],\n",
              "       [ 0.75768372, -1.2868009 , -1.04119311],\n",
              "       [-0.78070726,  0.62811332,  0.76797223],\n",
              "       [-0.12139684,  1.58557043,  1.15565051],\n",
              "       [-0.56093712,  1.64189143,  1.02642442],\n",
              "       [-0.12139684,  0.23386627, -0.00738435],\n",
              "       [ 0.75768372, -1.3431219 , -1.17041921],\n",
              "       [ 1.41699414, -1.2868009 , -1.04119311],\n",
              "       [ 1.85653442, -1.39944291, -1.04119311],\n",
              "       [ 0.0983733 ,  0.62811332,  0.38029394],\n",
              "       [-1.22024754,  0.12122426,  0.12184175],\n",
              "       [ 2.95538512, -1.2868009 , -1.04119311],\n",
              "       [ 0.97745386, -1.3431219 , -1.17041921],\n",
              "       [-0.78070726,  0.17754527, -0.26583654],\n",
              "       [-0.34116698, -0.10405976,  0.12184175],\n",
              "       [-0.12139684, -1.3431219 , -1.4288714 ],\n",
              "       [-0.12139684, -1.3431219 , -1.17041921],\n",
              "       [ 0.0983733 ,  0.34650829,  0.25106784],\n",
              "       [-1.22024754,  0.68443432,  0.89719832],\n",
              "       [ 1.63676428,  1.47292841,  1.02642442],\n",
              "       [ 0.97745386, -1.3431219 , -1.29964531],\n",
              "       [-0.56093712,  1.02236036,  1.15565051],\n",
              "       [ 0.31814344, -1.3431219 , -1.29964531],\n",
              "       [-1.87955796,  0.68443432,  0.38029394],\n",
              "       [ 0.97745386, -1.39944291, -1.29964531],\n",
              "       [ 0.53791358,  1.24764439,  1.6725549 ],\n",
              "       [-1.87955796,  0.12122426, -0.26583654],\n",
              "       [ 0.75768372, -1.06151687, -1.29964531],\n",
              "       [-0.12139684,  1.30396539,  1.41410271],\n",
              "       [-0.56093712,  0.12122426,  0.12184175],\n",
              "       [-1.22024754,  0.68443432,  1.02642442],\n",
              "       [-0.78070726,  0.06490325, -0.00738435],\n",
              "       [-1.65978782, -1.39944291, -1.17041921],\n",
              "       [-1.44001768, -0.04773876, -0.26583654],\n",
              "       [ 0.0983733 ,  0.96603936,  0.76797223],\n",
              "       [-0.12139684,  0.4591503 ,  0.25106784],\n",
              "       [-0.34116698,  1.02236036,  0.76797223],\n",
              "       [ 0.75768372, -1.2868009 , -1.29964531],\n",
              "       [-0.34116698,  0.23386627,  0.12184175],\n",
              "       [ 1.197224  , -1.3431219 , -1.29964531],\n",
              "       [ 0.0983733 ,  0.51547131,  0.38029394],\n",
              "       [-0.56093712,  0.57179231,  0.25106784],\n",
              "       [-0.78070726,  0.06490325,  0.25106784],\n",
              "       [ 1.197224  ,  1.30396539,  1.6725549 ],\n",
              "       [-0.78070726,  0.74075533,  0.50952003],\n",
              "       [-0.34116698,  0.29018728,  0.12184175],\n",
              "       [ 0.75768372,  1.02236036,  1.5433288 ],\n",
              "       [-0.56093712,  0.62811332,  1.02642442],\n",
              "       [ 0.0983733 , -1.2868009 , -1.29964531],\n",
              "       [ 0.31814344,  1.07868137,  1.41410271],\n",
              "       [-0.56093712,  0.4591503 ,  0.38029394],\n",
              "       [-0.12139684,  0.17754527,  0.12184175],\n",
              "       [-1.0004774 ,  1.75453345,  1.41410271],\n",
              "       [ 2.2960747 , -1.2868009 , -1.4288714 ],\n",
              "       [ 0.31814344,  0.85339734,  1.41410271],\n",
              "       [-0.12139684,  0.74075533,  0.76797223],\n",
              "       [-1.65978782,  0.34650829,  0.12184175],\n",
              "       [ 0.0983733 , -1.23047989, -1.29964531],\n",
              "       [ 1.63676428,  1.64189143,  1.28487661],\n",
              "       [-0.12139684,  0.96603936,  1.15565051],\n",
              "       [ 1.63676428, -1.06151687, -1.04119311],\n",
              "       [-0.12139684, -1.51208492, -1.4288714 ],\n",
              "       [-0.56093712,  0.57179231,  0.76797223],\n",
              "       [-0.12139684,  1.13500238,  0.50952003],\n",
              "       [-0.56093712,  0.74075533,  1.5433288 ],\n",
              "       [ 1.85653442, -1.17415888, -1.04119311],\n",
              "       [-0.78070726,  0.74075533,  0.89719832],\n",
              "       [-2.31909824, -0.16038077, -0.26583654],\n",
              "       [ 0.53791358,  1.07868137,  1.15565051],\n",
              "       [-0.56093712,  1.30396539,  0.89719832],\n",
              "       [ 1.41699414, -1.2868009 , -1.29964531],\n",
              "       [-0.56093712,  0.51547131, -0.00738435],\n",
              "       [-1.0004774 ,  0.34650829, -0.00738435],\n",
              "       [ 0.31814344,  0.51547131,  0.25106784],\n",
              "       [-1.22024754,  0.62811332,  0.38029394],\n",
              "       [-0.12139684,  0.23386627,  0.38029394],\n",
              "       [ 0.97745386, -1.2868009 , -1.29964531],\n",
              "       [ 0.0983733 ,  0.90971835,  1.15565051],\n",
              "       [-1.0004774 ,  0.12122426, -0.00738435],\n",
              "       [-0.78070726,  0.74075533,  0.89719832],\n",
              "       [ 0.75768372, -1.23047989, -1.29964531],\n",
              "       [ 1.197224  , -1.3431219 , -1.4288714 ],\n",
              "       [-1.0004774 , -0.16038077, -0.26583654],\n",
              "       [ 2.51584484, -1.3431219 , -1.29964531],\n",
              "       [-0.78070726,  0.23386627,  0.12184175],\n",
              "       [ 0.0983733 , -1.2868009 , -1.29964531]])"
            ]
          },
          "metadata": {},
          "execution_count": 10
        }
      ]
    },
    {
      "cell_type": "markdown",
      "source": [
        "**Run PCA**"
      ],
      "metadata": {
        "id": "CTQQH4Y3l89y"
      }
    },
    {
      "cell_type": "code",
      "source": [
        "#Now lets perfrom pca\n",
        "#Steps are similar to the scale transformer\n",
        "#1) import the module\n",
        "from sklearn.decomposition import PCA\n",
        "#2) define the model\n",
        "pca = PCA(n_components=2)   # n_components means the pca transformation constructs this many features\n",
        "#3) fit the model\n",
        "pca.fit(X_train_ss)\n",
        "#4) transform the data\n",
        "pca_train = pca.transform(X_train_ss)\n",
        "# 3 and 4 could be combined\n",
        "# pca_train = pca.fit_transform(X_train_ss)\n",
        "# print the output, which is a matrix of only two features\n",
        "pca_train[:10,:]\n",
        "# ALT: plt.scatter(pca_train[:,0],pca_train[:,1])"
      ],
      "metadata": {
        "colab": {
          "base_uri": "https://localhost:8080/"
        },
        "id": "LdUG1JHFl-pb",
        "outputId": "23164355-bdae-4c89-c902-1c8d8dfe9c3a"
      },
      "execution_count": 11,
      "outputs": [
        {
          "output_type": "execute_result",
          "data": {
            "text/plain": [
              "array([[ 0.09953905, -1.27195338],\n",
              "       [ 1.24517682, -1.511778  ],\n",
              "       [-2.23995982,  0.82850939],\n",
              "       [ 1.56980436,  1.02026044],\n",
              "       [ 0.41457825, -0.43457392],\n",
              "       [ 1.48337778,  0.51976305],\n",
              "       [-1.80491446, -0.66531921],\n",
              "       [-2.2865126 ,  0.80241998],\n",
              "       [-1.58636569, -1.04325442],\n",
              "       [ 1.57485976,  0.53649337]])"
            ]
          },
          "metadata": {},
          "execution_count": 11
        }
      ]
    },
    {
      "cell_type": "markdown",
      "source": [
        "**Visualising the results**"
      ],
      "metadata": {
        "id": "jAZbCgwsmAg0"
      }
    },
    {
      "cell_type": "code",
      "source": [
        "#format and visualise the transformed training data\n",
        "df_pca_train = pd.DataFrame(data = pca_train, columns = ['pc1', 'pc2'])\n",
        "df_pca_train['species']=y_train\n",
        "sns.scatterplot(x='pc1', y='pc2', hue=df_pca_train['species'], data=df_pca_train);"
      ],
      "metadata": {
        "colab": {
          "base_uri": "https://localhost:8080/",
          "height": 449
        },
        "id": "SHkZK1M4mBny",
        "outputId": "60bdb32a-f56d-408c-edc3-f41e6533e992"
      },
      "execution_count": 12,
      "outputs": [
        {
          "output_type": "display_data",
          "data": {
            "text/plain": [
              "<Figure size 640x480 with 1 Axes>"
            ],
            "image/png": "[encoded data removed]"
          },
          "metadata": {}
        }
      ]
    },
    {
      "cell_type": "markdown",
      "source": [],
      "metadata": {
        "id": "nLqUg4xzmDdC"
      }
    },
    {
      "cell_type": "markdown",
      "source": [
        "**Transform the test data**"
      ],
      "metadata": {
        "id": "TZ1WQO3cmFFG"
      }
    },
    {
      "cell_type": "code",
      "source": [
        "#1- First apply the scaler that has been built based on the training data to scale the test data\n",
        "X_test_ss = scaler.transform(X_test)\n",
        "#2- Second apply the pca transformation that has been built based on the training data to transfer the scaled test data\n",
        "pca_test = pca.transform(X_test_ss)"
      ],
      "metadata": {
        "id": "_cN7ZuyXmGLP"
      },
      "execution_count": 13,
      "outputs": []
    },
    {
      "cell_type": "markdown",
      "source": [
        "**Classification**"
      ],
      "metadata": {
        "id": "515KepZgmIL-"
      }
    },
    {
      "cell_type": "code",
      "source": [
        "# Performing classification based on the orignal data\n",
        "from sklearn.metrics import accuracy_score\n",
        "from sklearn.ensemble import RandomForestClassifier\n",
        "classifier = RandomForestClassifier(random_state=0)\n",
        "#classifier=SVC()\n",
        "classifier.fit(X_train, y_train)\n",
        "score = accuracy_score(classifier.predict(X_test), y_test)\n",
        "print('Accuracy before transformation  = {:.2f}'.format(score))"
      ],
      "metadata": {
        "colab": {
          "base_uri": "https://localhost:8080/"
        },
        "id": "Z5tUB-ormHdC",
        "outputId": "146549e4-74fa-409b-a780-47d3652693bb"
      },
      "execution_count": 14,
      "outputs": [
        {
          "output_type": "stream",
          "name": "stdout",
          "text": [
            "Accuracy before transformation  = 0.91\n"
          ]
        }
      ]
    },
    {
      "cell_type": "code",
      "source": [
        "# Performing classification using the pca-based transformed data\n",
        "classifier.fit(pca_train, y_train)\n",
        "score = accuracy_score(classifier.predict(pca_test), y_test)\n",
        "print('Accuracy after PCA transformation  = {:.2f}'.format(score))"
      ],
      "metadata": {
        "colab": {
          "base_uri": "https://localhost:8080/"
        },
        "id": "6-yrAoPpmLM1",
        "outputId": "7914ebcc-efe9-4e71-cf23-e7210c51f138"
      },
      "execution_count": 15,
      "outputs": [
        {
          "output_type": "stream",
          "name": "stdout",
          "text": [
            "Accuracy after PCA transformation  = 0.93\n"
          ]
        }
      ]
    },
    {
      "cell_type": "markdown",
      "source": [
        "**ICA**"
      ],
      "metadata": {
        "id": "QIB3P7qPmMwx"
      }
    },
    {
      "cell_type": "code",
      "source": [
        "from sklearn.decomposition import FastICA\n",
        "ica = FastICA(n_components=2)\n",
        "ica_train = ica.fit_transform(X_train_ss)  # nb. we already did the scaling, above"
      ],
      "metadata": {
        "id": "03WPtu8wmN26"
      },
      "execution_count": 16,
      "outputs": []
    },
    {
      "cell_type": "code",
      "source": [
        "# Visualisation\n",
        "df_ica_train = pd.DataFrame(data = ica_train, columns = ['ic1', 'ic2'])\n",
        "df_ica_train['species']=y_train\n",
        "sns.scatterplot(x='ic1', y='ic2', hue=df_ica_train['species'], data=df_ica_train);"
      ],
      "metadata": {
        "colab": {
          "base_uri": "https://localhost:8080/",
          "height": 449
        },
        "id": "1DgZEk-tmPL5",
        "outputId": "5ec55a4c-123e-4e69-e318-3b71a4130abc"
      },
      "execution_count": 17,
      "outputs": [
        {
          "output_type": "display_data",
          "data": {
            "text/plain": [
              "<Figure size 640x480 with 1 Axes>"
            ],
            "image/png": "[encoded data removed]"
          },
          "metadata": {}
        }
      ]
    },
    {
      "cell_type": "code",
      "source": [
        "# Performing classification using the ica-based transformed data\n",
        "# Transform test data using ica\n",
        "classifier.fit(ica_train, y_train)\n",
        "ica_test = ica.transform(X_test_ss)\n",
        "score = accuracy_score(classifier.predict(ica_test), y_test)\n",
        "print('Accuracy after ICA transformation  = {:.2f}'.format(score))"
      ],
      "metadata": {
        "colab": {
          "base_uri": "https://localhost:8080/"
        },
        "id": "g7wl87HnmSVw",
        "outputId": "aebfba6f-b125-4217-9b30-926d4c960dc3"
      },
      "execution_count": 18,
      "outputs": [
        {
          "output_type": "stream",
          "name": "stdout",
          "text": [
            "Accuracy after ICA transformation  = 0.96\n"
          ]
        }
      ]
    },
    {
      "cell_type": "markdown",
      "source": [
        "**GP transformers**"
      ],
      "metadata": {
        "id": "8SNFdFG-mTUr"
      }
    },
    {
      "cell_type": "code",
      "source": [
        "# Might need to install the package for genetic programming (gp)\n",
        "!pip install gplearn"
      ],
      "metadata": {
        "colab": {
          "base_uri": "https://localhost:8080/"
        },
        "id": "lK2fGCy6mUP1",
        "outputId": "c6462ccb-5eab-412d-edb3-f4d3497a4ab1"
      },
      "execution_count": 19,
      "outputs": [
        {
          "output_type": "stream",
          "name": "stdout",
          "text": [
            "Collecting gplearn\n",
            "  Downloading gplearn-0.4.2-py3-none-any.whl.metadata (4.3 kB)\n",
            "Requirement already satisfied: scikit-learn>=1.0.2 in /usr/local/lib/python3.12/dist-packages (from gplearn) (1.6.1)\n",
            "Requirement already satisfied: joblib>=1.0.0 in /usr/local/lib/python3.12/dist-packages (from gplearn) (1.5.2)\n",
            "Requirement already satisfied: numpy>=1.19.5 in /usr/local/lib/python3.12/dist-packages (from scikit-learn>=1.0.2->gplearn) (2.0.2)\n",
            "Requirement already satisfied: scipy>=1.6.0 in /usr/local/lib/python3.12/dist-packages (from scikit-learn>=1.0.2->gplearn) (1.16.2)\n",
            "Requirement already satisfied: threadpoolctl>=3.1.0 in /usr/local/lib/python3.12/dist-packages (from scikit-learn>=1.0.2->gplearn) (3.6.0)\n",
            "Downloading gplearn-0.4.2-py3-none-any.whl (25 kB)\n",
            "Installing collected packages: gplearn\n",
            "Successfully installed gplearn-0.4.2\n"
          ]
        }
      ]
    },
    {
      "cell_type": "code",
      "source": [
        "#Since this package does not work when the target variable is string, an encoder is used to convert it\n",
        "from sklearn.preprocessing import LabelEncoder\n",
        "le = LabelEncoder()\n",
        "label_encoded = le.fit_transform(y_train)\n",
        "label_encoded"
      ],
      "metadata": {
        "colab": {
          "base_uri": "https://localhost:8080/"
        },
        "id": "YCK121I2mXbS",
        "outputId": "8cfd45bd-8482-4a0b-9e71-5f452984d83a"
      },
      "execution_count": 26,
      "outputs": [
        {
          "output_type": "execute_result",
          "data": {
            "text/plain": [
              "array([1, 1, 0, 2, 1, 2, 0, 0, 0, 2, 2, 0, 0, 1, 1, 2, 0, 0, 2, 1, 0, 2,\n",
              "       2, 2, 1, 0, 0, 0, 1, 1, 0, 0, 1, 1, 0, 0, 1, 2, 2, 0, 2, 0, 2, 0,\n",
              "       2, 1, 0, 2, 1, 2, 1, 0, 1, 2, 1, 2, 0, 1, 0, 1, 1, 1, 2, 1, 1, 2,\n",
              "       2, 0, 2, 1, 1, 2, 0, 2, 2, 1, 0, 2, 2, 0, 0, 2, 2, 2, 0, 2, 1, 2,\n",
              "       2, 0, 1, 1, 1, 1, 1, 0, 2, 1, 2, 0, 0, 1, 0, 1, 0])"
            ]
          },
          "metadata": {},
          "execution_count": 26
        }
      ]
    }
  ]
}